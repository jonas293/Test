{
  "nbformat": 4,
  "nbformat_minor": 0,
  "metadata": {
    "colab": {
      "name": "ScaleLSTM2Inputs.ipynb",
      "version": "0.3.2",
      "provenance": [],
      "collapsed_sections": [],
      "include_colab_link": true
    },
    "kernelspec": {
      "name": "python3",
      "display_name": "Python 3"
    },
    "accelerator": "GPU"
  },
  "cells": [
    {
      "cell_type": "markdown",
      "metadata": {
        "id": "view-in-github",
        "colab_type": "text"
      },
      "source": [
        "<a href=\"https://colab.research.google.com/github/jonas293/Test/blob/master/ScaleLSTM2Inputs.ipynb\" target=\"_parent\"><img src=\"https://colab.research.google.com/assets/colab-badge.svg\" alt=\"Open In Colab\"/></a>"
      ]
    },
    {
      "metadata": {
        "id": "TmY0_t0f6O6U",
        "colab_type": "text"
      },
      "cell_type": "markdown",
      "source": [
        "# Import data"
      ]
    },
    {
      "metadata": {
        "id": "mg6Nh3857Jei",
        "colab_type": "code",
        "outputId": "9cb98f71-e9ad-482f-9baa-0bbefc58e262",
        "colab": {
          "base_uri": "https://localhost:8080/",
          "height": 32
        }
      },
      "cell_type": "code",
      "source": [
        "import tensorflow as tf\n",
        "print(tf.test.gpu_device_name())"
      ],
      "execution_count": 32,
      "outputs": [
        {
          "output_type": "stream",
          "text": [
            "/device:GPU:0\n"
          ],
          "name": "stdout"
        }
      ]
    },
    {
      "metadata": {
        "id": "TsEIEHuJKaxY",
        "colab_type": "code",
        "outputId": "ec1e7dae-0a1a-4c2a-8a52-ef15b0c880d6",
        "colab": {
          "base_uri": "https://localhost:8080/",
          "height": 303
        }
      },
      "cell_type": "code",
      "source": [
        "!nvidia-smi"
      ],
      "execution_count": 33,
      "outputs": [
        {
          "output_type": "stream",
          "text": [
            "Thu Mar 28 09:05:09 2019       \n",
            "+-----------------------------------------------------------------------------+\n",
            "| NVIDIA-SMI 418.43       Driver Version: 410.79       CUDA Version: 10.0     |\n",
            "|-------------------------------+----------------------+----------------------+\n",
            "| GPU  Name        Persistence-M| Bus-Id        Disp.A | Volatile Uncorr. ECC |\n",
            "| Fan  Temp  Perf  Pwr:Usage/Cap|         Memory-Usage | GPU-Util  Compute M. |\n",
            "|===============================+======================+======================|\n",
            "|   0  Tesla K80           Off  | 00000000:00:04.0 Off |                    0 |\n",
            "| N/A   73C    P0    73W / 149W |    344MiB / 11441MiB |      0%      Default |\n",
            "+-------------------------------+----------------------+----------------------+\n",
            "                                                                               \n",
            "+-----------------------------------------------------------------------------+\n",
            "| Processes:                                                       GPU Memory |\n",
            "|  GPU       PID   Type   Process name                             Usage      |\n",
            "|=============================================================================|\n",
            "+-----------------------------------------------------------------------------+\n"
          ],
          "name": "stdout"
        }
      ]
    },
    {
      "metadata": {
        "id": "5jS6S1rp9NNB",
        "colab_type": "code",
        "outputId": "2f03707b-28f0-4751-b50e-1b1629ffb8b8",
        "colab": {
          "base_uri": "https://localhost:8080/",
          "height": 174
        }
      },
      "cell_type": "code",
      "source": [
        "!pip install keras"
      ],
      "execution_count": 34,
      "outputs": [
        {
          "output_type": "stream",
          "text": [
            "Requirement already satisfied: keras in /usr/local/lib/python3.6/dist-packages (2.2.4)\n",
            "Requirement already satisfied: pyyaml in /usr/local/lib/python3.6/dist-packages (from keras) (3.13)\n",
            "Requirement already satisfied: keras-applications>=1.0.6 in /usr/local/lib/python3.6/dist-packages (from keras) (1.0.7)\n",
            "Requirement already satisfied: six>=1.9.0 in /usr/local/lib/python3.6/dist-packages (from keras) (1.11.0)\n",
            "Requirement already satisfied: numpy>=1.9.1 in /usr/local/lib/python3.6/dist-packages (from keras) (1.14.6)\n",
            "Requirement already satisfied: h5py in /usr/local/lib/python3.6/dist-packages (from keras) (2.8.0)\n",
            "Requirement already satisfied: scipy>=0.14 in /usr/local/lib/python3.6/dist-packages (from keras) (1.1.0)\n",
            "Requirement already satisfied: keras-preprocessing>=1.0.5 in /usr/local/lib/python3.6/dist-packages (from keras) (1.0.9)\n"
          ],
          "name": "stdout"
        }
      ]
    },
    {
      "metadata": {
        "id": "PJqxf4Qp9Ng4",
        "colab_type": "code",
        "colab": {}
      },
      "cell_type": "code",
      "source": [
        "from keras import backend as K\n",
        "\n",
        "if 'tensorflow' == K.backend():\n",
        "  import tensorflow as tf\n",
        "  from keras.backend.tensorflow_backend import set_session\n",
        "  config = tf.ConfigProto()\n",
        "  config.gpu_options.allow_growth = True\n",
        "  config.gpu_options.visible_device_list = \"0\"\n",
        "  set_session(tf.Session(config=config))"
      ],
      "execution_count": 0,
      "outputs": []
    },
    {
      "metadata": {
        "id": "3hQvkG8Z9NyH",
        "colab_type": "code",
        "colab": {}
      },
      "cell_type": "code",
      "source": [
        "# Install the PyDrive wrapper & import libraries.\n",
        "# This only needs to be done once per notebook.\n",
        "!pip install -U -q PyDrive\n",
        "from pydrive.auth import GoogleAuth\n",
        "from pydrive.drive import GoogleDrive\n",
        "from google.colab import auth\n",
        "from oauth2client.client import GoogleCredentials\n",
        "\n",
        "# Authenticate and create the PyDrive client.\n",
        "# This only needs to be done once per notebook.\n",
        "auth.authenticate_user()\n",
        "gauth = GoogleAuth()\n",
        "gauth.credentials = GoogleCredentials.get_application_default()\n",
        "drive = GoogleDrive(gauth)"
      ],
      "execution_count": 0,
      "outputs": []
    },
    {
      "metadata": {
        "id": "TF_dCFU-9OEN",
        "colab_type": "code",
        "outputId": "d027035e-28b3-4e72-ef11-996422f75e78",
        "colab": {
          "base_uri": "https://localhost:8080/",
          "height": 32
        }
      },
      "cell_type": "code",
      "source": [
        "import os\n",
        "\n",
        "# choose a local (colab) directory to store the data.\n",
        "local_root_path = os.path.expanduser(\"~/Colab\")\n",
        "try:\n",
        "  os.makedirs(local_root_path)\n",
        "except: pass\n",
        "\n",
        "def ListFolder(google_drive_id, destination):\n",
        "  file_list = drive.ListFile({'q': \"'%s' in parents and trashed=false\" % google_drive_id}).GetList()\n",
        "  counter = 0\n",
        "  for f in file_list:\n",
        "    # If it is a directory then, create the dicrectory and upload the file inside it\n",
        "    if f['mimeType']=='application/vnd.google-apps.folder': \n",
        "      folder_path = os.path.join(destination, f['title'])\n",
        "      os.makedirs(folder_path)\n",
        "      print('creating directory {}'.format(folder_path))\n",
        "      ListFolder(f['id'], folder_path)\n",
        "    else:\n",
        "      fname = os.path.join(destination, f['title'])\n",
        "      f_ = drive.CreateFile({'id': f['id']})\n",
        "      f_.GetContentFile(fname)\n",
        "      counter += 1\n",
        "  print('{} files were uploaded in {}'.format(counter, destination))\n",
        "\n",
        "ListFolder(\"18cS38DYpGCfHnG3MKjmnjN4NUBSIEFpl\", local_root_path)"
      ],
      "execution_count": 37,
      "outputs": [
        {
          "output_type": "stream",
          "text": [
            "18 files were uploaded in /root/Colab\n"
          ],
          "name": "stdout"
        }
      ]
    },
    {
      "metadata": {
        "id": "ZYTO5M6c9OTK",
        "colab_type": "code",
        "outputId": "756b74ca-6a5b-4a74-9b32-da4701b35d17",
        "colab": {
          "base_uri": "https://localhost:8080/",
          "height": 190
        }
      },
      "cell_type": "code",
      "source": [
        "!ls ~/Colab"
      ],
      "execution_count": 38,
      "outputs": [
        {
          "output_type": "stream",
          "text": [
            " 1LayerLSTM.hdf5\t\t      Sp500Close.csv\n",
            " 1ScaleLayerLSTMEpoch380-00021.hdf5   SP500CloseLong.csv\n",
            " 1ScaleLayerLSTMEpoch380.hdf5\t      Sp500Complete63.csv\n",
            " 1ScaleLayerLSTM.hdf5\t\t      TSLAClose.csv\n",
            " 2LayerLSTM.hdf5\t\t      Tweepy.ipynb\n",
            "'First LSTM NN-1Inputs.ipynb'\t      TwitterSP500Close_19.3.csv\n",
            "'First LSTM NN-2Inputs.ipynb'\t      TwitterSP500Close_28.3.csv\n",
            "'Scale First LSTM NN-1Inputs.ipynb'   TwitterSP500Close.csv\n",
            " ScaleLSTM2Inputs.ipynb\t\t     'Yahoo API.ipynb'\n"
          ],
          "name": "stdout"
        }
      ]
    },
    {
      "metadata": {
        "id": "5f3GHHtaHZMZ",
        "colab_type": "code",
        "outputId": "2b28d59f-6323-4777-dfe8-6e5ee73e4ab3",
        "colab": {
          "base_uri": "https://localhost:8080/",
          "height": 201
        }
      },
      "cell_type": "code",
      "source": [
        "import numpy as np\n",
        "import pandas as pd\n",
        "import matplotlib.pyplot as plt\n",
        "%matplotlib inline\n",
        "\n",
        "df = pd.read_csv(os.path.expanduser(\"~/Colab/TwitterSP500Close_28.3.csv\"))\n",
        "df = df.drop(\"Unnamed: 0\", axis=1)\n",
        "df = df.drop(\"Sentiment\", axis=1)\n",
        "df = df.rename(columns = {\"New Sentiment\":\"Sentiment\"})\n",
        "df = df.iloc[::-1]\n",
        "df = df.reset_index()\n",
        "df = df.drop (\"index\", axis=1)\n",
        "df.head()"
      ],
      "execution_count": 39,
      "outputs": [
        {
          "output_type": "execute_result",
          "data": {
            "text/html": [
              "<div>\n",
              "<style scoped>\n",
              "    .dataframe tbody tr th:only-of-type {\n",
              "        vertical-align: middle;\n",
              "    }\n",
              "\n",
              "    .dataframe tbody tr th {\n",
              "        vertical-align: top;\n",
              "    }\n",
              "\n",
              "    .dataframe thead th {\n",
              "        text-align: right;\n",
              "    }\n",
              "</style>\n",
              "<table border=\"1\" class=\"dataframe\">\n",
              "  <thead>\n",
              "    <tr style=\"text-align: right;\">\n",
              "      <th></th>\n",
              "      <th>Date</th>\n",
              "      <th>Tweet</th>\n",
              "      <th>Sentiment</th>\n",
              "      <th>Close</th>\n",
              "    </tr>\n",
              "  </thead>\n",
              "  <tbody>\n",
              "    <tr>\n",
              "      <th>0</th>\n",
              "      <td>2019-03-27</td>\n",
              "      <td>b'RT @zeroleverage: Sell off comes overnight a...</td>\n",
              "      <td>0.035874</td>\n",
              "      <td>2805.370117</td>\n",
              "    </tr>\n",
              "    <tr>\n",
              "      <th>1</th>\n",
              "      <td>2019-03-26</td>\n",
              "      <td>b'RT @SenseiHov: Alright guys\\n\\nToday I trade...</td>\n",
              "      <td>0.037667</td>\n",
              "      <td>2818.459961</td>\n",
              "    </tr>\n",
              "    <tr>\n",
              "      <th>2</th>\n",
              "      <td>2019-03-25</td>\n",
              "      <td>b'#USDJPY -&amp;gt; Technicals + Intermarket play ...</td>\n",
              "      <td>0.018866</td>\n",
              "      <td>2798.360107</td>\n",
              "    </tr>\n",
              "    <tr>\n",
              "      <th>3</th>\n",
              "      <td>2019-03-22</td>\n",
              "      <td>b'SP daily parabolas 03/22/2019 #SP500\\xc2\\xa0...</td>\n",
              "      <td>0.016319</td>\n",
              "      <td>2800.709961</td>\n",
              "    </tr>\n",
              "    <tr>\n",
              "      <th>4</th>\n",
              "      <td>2019-03-21</td>\n",
              "      <td>b'The #SP500 is just 5.7% from reaching all ti...</td>\n",
              "      <td>0.081840</td>\n",
              "      <td>2854.879883</td>\n",
              "    </tr>\n",
              "  </tbody>\n",
              "</table>\n",
              "</div>"
            ],
            "text/plain": [
              "         Date                                              Tweet  Sentiment  \\\n",
              "0  2019-03-27  b'RT @zeroleverage: Sell off comes overnight a...   0.035874   \n",
              "1  2019-03-26  b'RT @SenseiHov: Alright guys\\n\\nToday I trade...   0.037667   \n",
              "2  2019-03-25  b'#USDJPY -&gt; Technicals + Intermarket play ...   0.018866   \n",
              "3  2019-03-22  b'SP daily parabolas 03/22/2019 #SP500\\xc2\\xa0...   0.016319   \n",
              "4  2019-03-21  b'The #SP500 is just 5.7% from reaching all ti...   0.081840   \n",
              "\n",
              "         Close  \n",
              "0  2805.370117  \n",
              "1  2818.459961  \n",
              "2  2798.360107  \n",
              "3  2800.709961  \n",
              "4  2854.879883  "
            ]
          },
          "metadata": {
            "tags": []
          },
          "execution_count": 39
        }
      ]
    },
    {
      "metadata": {
        "id": "JEMBclGr6O6v",
        "colab_type": "text"
      },
      "cell_type": "markdown",
      "source": [
        "# Data overview"
      ]
    },
    {
      "metadata": {
        "id": "KieJDQ9m6O6z",
        "colab_type": "code",
        "outputId": "8a735612-5b29-445b-d4e9-f9d3a499feba",
        "colab": {
          "base_uri": "https://localhost:8080/",
          "height": 309
        }
      },
      "cell_type": "code",
      "source": [
        "import matplotlib.dates as mdates\n",
        "import matplotlib.cbook as cbook\n",
        "\n",
        "#years = mdates.YearLocator()   # every year\n",
        "#months = mdates.MonthLocator()  # every month\n",
        "#yearsFmt = mdates.DateFormatter('%Y')\n",
        "\n",
        "fig = plt.figure(figsize=plt.figaspect(0.3))\n",
        "fig.add_axes()\n",
        "ax = fig.add_subplot(111)\n",
        "\n",
        "# format the ticks\n",
        "#ax = plt.gca()\n",
        "#ax.xaxis.set_major_locator(years)\n",
        "#ax.xaxis.set_major_formatter(yearsFmt)\n",
        "#ax.xaxis.set_minor_locator(months)\n",
        "\n",
        "dates = np.array(df[\"Date\"]).astype(np.datetime64)\n",
        "\n",
        "\n",
        "x = dates\n",
        "y = df[\"Close\"]\n",
        "\n",
        "plt.plot(x,y)\n",
        "#ax.set(ylim = [,])\n",
        "ax.set(title = \"Stock price\",\n",
        "      ylabel = \"Stock price\",\n",
        "      xlabel = \"Date\")\n",
        "ax.legend(loc = \"best\")\n",
        "\n",
        "#Hier zweiten Graph einfügen mit "
      ],
      "execution_count": 40,
      "outputs": [
        {
          "output_type": "execute_result",
          "data": {
            "text/plain": [
              "<matplotlib.legend.Legend at 0x7f6342921940>"
            ]
          },
          "metadata": {
            "tags": []
          },
          "execution_count": 40
        },
        {
          "output_type": "display_data",
          "data": {
            "image/png": "[encoded data removed]",
            "text/plain": [
              "<Figure size 960x288 with 1 Axes>"
            ]
          },
          "metadata": {
            "tags": []
          }
        }
      ]
    },
    {
      "metadata": {
        "id": "6u0RV9W76O69",
        "colab_type": "text"
      },
      "cell_type": "markdown",
      "source": [
        "# Prepare data / Calculate %-changes"
      ]
    },
    {
      "metadata": {
        "id": "4cGG3R0w6O6_",
        "colab_type": "code",
        "outputId": "dbae4932-5753-4304-a007-a405e352260b",
        "colab": {
          "base_uri": "https://localhost:8080/",
          "height": 718
        }
      },
      "cell_type": "code",
      "source": [
        "df[\"Close_before\"] = df[\"Close\"].shift(-1)\n",
        "df[\"Sentiment_before\"] = df[\"Sentiment\"].shift(-1)\n",
        "df = df[[\"Date\",\"Tweet\",\"Sentiment\", \"Sentiment_before\", \"Close\", \"Close_before\"]]\n",
        "df = df.dropna()\n",
        "df"
      ],
      "execution_count": 41,
      "outputs": [
        {
          "output_type": "execute_result",
          "data": {
            "text/html": [
              "<div>\n",
              "<style scoped>\n",
              "    .dataframe tbody tr th:only-of-type {\n",
              "        vertical-align: middle;\n",
              "    }\n",
              "\n",
              "    .dataframe tbody tr th {\n",
              "        vertical-align: top;\n",
              "    }\n",
              "\n",
              "    .dataframe thead th {\n",
              "        text-align: right;\n",
              "    }\n",
              "</style>\n",
              "<table border=\"1\" class=\"dataframe\">\n",
              "  <thead>\n",
              "    <tr style=\"text-align: right;\">\n",
              "      <th></th>\n",
              "      <th>Date</th>\n",
              "      <th>Tweet</th>\n",
              "      <th>Sentiment</th>\n",
              "      <th>Sentiment_before</th>\n",
              "      <th>Close</th>\n",
              "      <th>Close_before</th>\n",
              "    </tr>\n",
              "  </thead>\n",
              "  <tbody>\n",
              "    <tr>\n",
              "      <th>0</th>\n",
              "      <td>2019-03-27</td>\n",
              "      <td>b'RT @zeroleverage: Sell off comes overnight a...</td>\n",
              "      <td>0.035874</td>\n",
              "      <td>0.037667</td>\n",
              "      <td>2805.370117</td>\n",
              "      <td>2818.459961</td>\n",
              "    </tr>\n",
              "    <tr>\n",
              "      <th>1</th>\n",
              "      <td>2019-03-26</td>\n",
              "      <td>b'RT @SenseiHov: Alright guys\\n\\nToday I trade...</td>\n",
              "      <td>0.037667</td>\n",
              "      <td>0.018866</td>\n",
              "      <td>2818.459961</td>\n",
              "      <td>2798.360107</td>\n",
              "    </tr>\n",
              "    <tr>\n",
              "      <th>2</th>\n",
              "      <td>2019-03-25</td>\n",
              "      <td>b'#USDJPY -&amp;gt; Technicals + Intermarket play ...</td>\n",
              "      <td>0.018866</td>\n",
              "      <td>0.016319</td>\n",
              "      <td>2798.360107</td>\n",
              "      <td>2800.709961</td>\n",
              "    </tr>\n",
              "    <tr>\n",
              "      <th>3</th>\n",
              "      <td>2019-03-22</td>\n",
              "      <td>b'SP daily parabolas 03/22/2019 #SP500\\xc2\\xa0...</td>\n",
              "      <td>0.016319</td>\n",
              "      <td>0.081840</td>\n",
              "      <td>2800.709961</td>\n",
              "      <td>2854.879883</td>\n",
              "    </tr>\n",
              "    <tr>\n",
              "      <th>4</th>\n",
              "      <td>2019-03-21</td>\n",
              "      <td>b'The #SP500 is just 5.7% from reaching all ti...</td>\n",
              "      <td>0.081840</td>\n",
              "      <td>0.059207</td>\n",
              "      <td>2854.879883</td>\n",
              "      <td>2824.229980</td>\n",
              "    </tr>\n",
              "    <tr>\n",
              "      <th>5</th>\n",
              "      <td>2019-03-20</td>\n",
              "      <td>b'VIDEO: No Fed Hike - Stock Price Fake Out?\\n...</td>\n",
              "      <td>0.059207</td>\n",
              "      <td>0.100727</td>\n",
              "      <td>2824.229980</td>\n",
              "      <td>2832.570068</td>\n",
              "    </tr>\n",
              "    <tr>\n",
              "      <th>6</th>\n",
              "      <td>2019-03-19</td>\n",
              "      <td>b'RT @TimmerFidelity: Ten years after the bull...</td>\n",
              "      <td>0.100727</td>\n",
              "      <td>0.100385</td>\n",
              "      <td>2832.570068</td>\n",
              "      <td>2832.939941</td>\n",
              "    </tr>\n",
              "    <tr>\n",
              "      <th>7</th>\n",
              "      <td>2019-03-18</td>\n",
              "      <td>b'The C Fund Reached 2019 Highs\\n\\nhttps://t.c...</td>\n",
              "      <td>0.100385</td>\n",
              "      <td>0.102757</td>\n",
              "      <td>2832.939941</td>\n",
              "      <td>2822.479980</td>\n",
              "    </tr>\n",
              "    <tr>\n",
              "      <th>8</th>\n",
              "      <td>2019-03-15</td>\n",
              "      <td>b'RetFXPro Hears: S&amp;amp;P500 Technical Analysi...</td>\n",
              "      <td>0.102757</td>\n",
              "      <td>0.053675</td>\n",
              "      <td>2822.479980</td>\n",
              "      <td>2808.479980</td>\n",
              "    </tr>\n",
              "    <tr>\n",
              "      <th>9</th>\n",
              "      <td>2019-03-14</td>\n",
              "      <td>b'RT @TimmerFidelity: Ten years after the bull...</td>\n",
              "      <td>0.053675</td>\n",
              "      <td>0.065440</td>\n",
              "      <td>2808.479980</td>\n",
              "      <td>2810.919922</td>\n",
              "    </tr>\n",
              "    <tr>\n",
              "      <th>10</th>\n",
              "      <td>2019-03-13</td>\n",
              "      <td>b'The NASDAQ started lift huge OFFERS at 7:43a...</td>\n",
              "      <td>0.065440</td>\n",
              "      <td>0.076448</td>\n",
              "      <td>2810.919922</td>\n",
              "      <td>2791.520020</td>\n",
              "    </tr>\n",
              "    <tr>\n",
              "      <th>11</th>\n",
              "      <td>2019-03-12</td>\n",
              "      <td>b'Highest scoring stories for #SP500 under one...</td>\n",
              "      <td>0.076448</td>\n",
              "      <td>0.068904</td>\n",
              "      <td>2791.520020</td>\n",
              "      <td>2783.300049</td>\n",
              "    </tr>\n",
              "    <tr>\n",
              "      <th>12</th>\n",
              "      <td>2019-03-11</td>\n",
              "      <td>b'Most Active Stock Options (March 11/2019)\\n#...</td>\n",
              "      <td>0.068904</td>\n",
              "      <td>0.064664</td>\n",
              "      <td>2783.300049</td>\n",
              "      <td>2743.070068</td>\n",
              "    </tr>\n",
              "    <tr>\n",
              "      <th>13</th>\n",
              "      <td>2019-03-08</td>\n",
              "      <td>b'US Uneployment rate and all economic crises ...</td>\n",
              "      <td>0.064664</td>\n",
              "      <td>0.058009</td>\n",
              "      <td>2743.070068</td>\n",
              "      <td>2748.929932</td>\n",
              "    </tr>\n",
              "    <tr>\n",
              "      <th>14</th>\n",
              "      <td>2019-03-07</td>\n",
              "      <td>b\"#Gold, the U.S. #Dollar and the #SP500....To...</td>\n",
              "      <td>0.058009</td>\n",
              "      <td>0.046615</td>\n",
              "      <td>2748.929932</td>\n",
              "      <td>2771.449951</td>\n",
              "    </tr>\n",
              "    <tr>\n",
              "      <th>15</th>\n",
              "      <td>2019-03-06</td>\n",
              "      <td>b'Members can read out latest analysis: Russel...</td>\n",
              "      <td>0.046615</td>\n",
              "      <td>0.054666</td>\n",
              "      <td>2771.449951</td>\n",
              "      <td>2789.649902</td>\n",
              "    </tr>\n",
              "    <tr>\n",
              "      <th>16</th>\n",
              "      <td>2019-03-05</td>\n",
              "      <td>b'#EMINI 24/7 Alert Service Trial https://t.co...</td>\n",
              "      <td>0.054666</td>\n",
              "      <td>0.086962</td>\n",
              "      <td>2789.649902</td>\n",
              "      <td>2792.810059</td>\n",
              "    </tr>\n",
              "    <tr>\n",
              "      <th>17</th>\n",
              "      <td>2019-03-04</td>\n",
              "      <td>b'Market III: An curious divergence in #stocks...</td>\n",
              "      <td>0.086962</td>\n",
              "      <td>0.126660</td>\n",
              "      <td>2792.810059</td>\n",
              "      <td>2803.689941</td>\n",
              "    </tr>\n",
              "    <tr>\n",
              "      <th>18</th>\n",
              "      <td>2019-03-01</td>\n",
              "      <td>b'RT @MysteryTrader99: $SPX Daily: #SPX contin...</td>\n",
              "      <td>0.126660</td>\n",
              "      <td>0.049241</td>\n",
              "      <td>2803.689941</td>\n",
              "      <td>2784.489990</td>\n",
              "    </tr>\n",
              "    <tr>\n",
              "      <th>19</th>\n",
              "      <td>2019-02-28</td>\n",
              "      <td>b'$SPY $SPX #SP500\\n\\n$ILMN Update from 2/10/1...</td>\n",
              "      <td>0.049241</td>\n",
              "      <td>0.031587</td>\n",
              "      <td>2784.489990</td>\n",
              "      <td>2792.379883</td>\n",
              "    </tr>\n",
              "    <tr>\n",
              "      <th>20</th>\n",
              "      <td>2019-02-27</td>\n",
              "      <td>b\"RT @LPLResearch: #LPLAdvisors Here are our t...</td>\n",
              "      <td>0.031587</td>\n",
              "      <td>0.020384</td>\n",
              "      <td>2792.379883</td>\n",
              "      <td>2793.899902</td>\n",
              "    </tr>\n",
              "    <tr>\n",
              "      <th>21</th>\n",
              "      <td>2019-02-26</td>\n",
              "      <td>b'$SPY $SPX overbought #bear in control 278 op...</td>\n",
              "      <td>0.020384</td>\n",
              "      <td>0.047061</td>\n",
              "      <td>2793.899902</td>\n",
              "      <td>2796.110107</td>\n",
              "    </tr>\n",
              "  </tbody>\n",
              "</table>\n",
              "</div>"
            ],
            "text/plain": [
              "          Date                                              Tweet  Sentiment  \\\n",
              "0   2019-03-27  b'RT @zeroleverage: Sell off comes overnight a...   0.035874   \n",
              "1   2019-03-26  b'RT @SenseiHov: Alright guys\\n\\nToday I trade...   0.037667   \n",
              "2   2019-03-25  b'#USDJPY -&gt; Technicals + Intermarket play ...   0.018866   \n",
              "3   2019-03-22  b'SP daily parabolas 03/22/2019 #SP500\\xc2\\xa0...   0.016319   \n",
              "4   2019-03-21  b'The #SP500 is just 5.7% from reaching all ti...   0.081840   \n",
              "5   2019-03-20  b'VIDEO: No Fed Hike - Stock Price Fake Out?\\n...   0.059207   \n",
              "6   2019-03-19  b'RT @TimmerFidelity: Ten years after the bull...   0.100727   \n",
              "7   2019-03-18  b'The C Fund Reached 2019 Highs\\n\\nhttps://t.c...   0.100385   \n",
              "8   2019-03-15  b'RetFXPro Hears: S&amp;P500 Technical Analysi...   0.102757   \n",
              "9   2019-03-14  b'RT @TimmerFidelity: Ten years after the bull...   0.053675   \n",
              "10  2019-03-13  b'The NASDAQ started lift huge OFFERS at 7:43a...   0.065440   \n",
              "11  2019-03-12  b'Highest scoring stories for #SP500 under one...   0.076448   \n",
              "12  2019-03-11  b'Most Active Stock Options (March 11/2019)\\n#...   0.068904   \n",
              "13  2019-03-08  b'US Uneployment rate and all economic crises ...   0.064664   \n",
              "14  2019-03-07  b\"#Gold, the U.S. #Dollar and the #SP500....To...   0.058009   \n",
              "15  2019-03-06  b'Members can read out latest analysis: Russel...   0.046615   \n",
              "16  2019-03-05  b'#EMINI 24/7 Alert Service Trial https://t.co...   0.054666   \n",
              "17  2019-03-04  b'Market III: An curious divergence in #stocks...   0.086962   \n",
              "18  2019-03-01  b'RT @MysteryTrader99: $SPX Daily: #SPX contin...   0.126660   \n",
              "19  2019-02-28  b'$SPY $SPX #SP500\\n\\n$ILMN Update from 2/10/1...   0.049241   \n",
              "20  2019-02-27  b\"RT @LPLResearch: #LPLAdvisors Here are our t...   0.031587   \n",
              "21  2019-02-26  b'$SPY $SPX overbought #bear in control 278 op...   0.020384   \n",
              "\n",
              "    Sentiment_before        Close  Close_before  \n",
              "0           0.037667  2805.370117   2818.459961  \n",
              "1           0.018866  2818.459961   2798.360107  \n",
              "2           0.016319  2798.360107   2800.709961  \n",
              "3           0.081840  2800.709961   2854.879883  \n",
              "4           0.059207  2854.879883   2824.229980  \n",
              "5           0.100727  2824.229980   2832.570068  \n",
              "6           0.100385  2832.570068   2832.939941  \n",
              "7           0.102757  2832.939941   2822.479980  \n",
              "8           0.053675  2822.479980   2808.479980  \n",
              "9           0.065440  2808.479980   2810.919922  \n",
              "10          0.076448  2810.919922   2791.520020  \n",
              "11          0.068904  2791.520020   2783.300049  \n",
              "12          0.064664  2783.300049   2743.070068  \n",
              "13          0.058009  2743.070068   2748.929932  \n",
              "14          0.046615  2748.929932   2771.449951  \n",
              "15          0.054666  2771.449951   2789.649902  \n",
              "16          0.086962  2789.649902   2792.810059  \n",
              "17          0.126660  2792.810059   2803.689941  \n",
              "18          0.049241  2803.689941   2784.489990  \n",
              "19          0.031587  2784.489990   2792.379883  \n",
              "20          0.020384  2792.379883   2793.899902  \n",
              "21          0.047061  2793.899902   2796.110107  "
            ]
          },
          "metadata": {
            "tags": []
          },
          "execution_count": 41
        }
      ]
    },
    {
      "metadata": {
        "id": "3ZeVSHdFT24-",
        "colab_type": "code",
        "outputId": "1eccecc0-f0b4-48fa-9ef3-dd8bcc64610f",
        "colab": {
          "base_uri": "https://localhost:8080/",
          "height": 395
        }
      },
      "cell_type": "code",
      "source": [
        "### Daten werden Normalisiert ###\n",
        "\n",
        "from pandas import Series\n",
        "from sklearn.preprocessing import MinMaxScaler\n",
        "\n",
        "\n",
        "series1 = Series(df[\"Close\"])\n",
        "series2 = Series(df[\"Sentiment\"])\n",
        "\n",
        "# prepare data for normalization\n",
        "values1 = series1.values\n",
        "values1 = values1.reshape((len(values1), 1))\n",
        "values2 = series2.values\n",
        "values2 = values2.reshape((len(values2), 1))\n",
        "\n",
        "# train the normalization\n",
        "scaler1 = MinMaxScaler(feature_range=(0, 1))\n",
        "scaler1 = scaler1.fit(values1)\n",
        "scaler2 = MinMaxScaler(feature_range=(0, 1))\n",
        "scaler2 = scaler2.fit(values2)\n",
        "print('Min: %f, Max: %f' % (scaler2.data_min_, scaler2.data_max_))\n",
        "\n",
        "# normalize the dataset and print\n",
        "normalized1 = scaler1.transform(values1)\n",
        "df[\"Normalized_Data_Close\"] = normalized1\n",
        "normalized2 = scaler2.transform(values2)\n",
        "df[\"Normalized_Data_Sentiment\"] = normalized2\n",
        "print(normalized2)\n",
        "\n",
        "#inverse transform and print\n",
        "#inversed = scaler.inverse_transform(normalized)\n",
        "#print(inversed)\n",
        "\n",
        "closesnorm1 = df[\"Normalized_Data_Close\"]\n",
        "#closesnorm1.plot()\n",
        "closesnorm2 = df[\"Normalized_Data_Sentiment\"]\n",
        "#closesnorm2.plot()"
      ],
      "execution_count": 42,
      "outputs": [
        {
          "output_type": "stream",
          "text": [
            "Min: 0.016319, Max: 0.126660\n",
            "[[0.17722556]\n",
            " [0.19347772]\n",
            " [0.02308672]\n",
            " [0.        ]\n",
            " [0.59380515]\n",
            " [0.3886845 ]\n",
            " [0.76497048]\n",
            " [0.76187335]\n",
            " [0.78336877]\n",
            " [0.33854938]\n",
            " [0.4451708 ]\n",
            " [0.54493639]\n",
            " [0.47657219]\n",
            " [0.43813991]\n",
            " [0.3778329 ]\n",
            " [0.27456941]\n",
            " [0.34753226]\n",
            " [0.6402196 ]\n",
            " [1.        ]\n",
            " [0.29836531]\n",
            " [0.13836965]\n",
            " [0.03684186]]\n"
          ],
          "name": "stdout"
        }
      ]
    },
    {
      "metadata": {
        "id": "e4f8SKAfVwv7",
        "colab_type": "code",
        "outputId": "b7d4c743-200d-4051-ce97-990e2af69d10",
        "colab": {
          "base_uri": "https://localhost:8080/",
          "height": 378
        }
      },
      "cell_type": "code",
      "source": [
        "normalizeddata = df[[\"Normalized_Data_Close\",\"Normalized_Data_Sentiment\"]].values\n",
        "normalizeddata "
      ],
      "execution_count": 43,
      "outputs": [
        {
          "output_type": "execute_result",
          "data": {
            "text/plain": [
              "array([[0.5571966 , 0.17722556],\n",
              "       [0.67426901, 0.19347772],\n",
              "       [0.49450077, 0.02308672],\n",
              "       [0.51551729, 0.        ],\n",
              "       [1.        , 0.59380515],\n",
              "       [0.72587467, 0.3886845 ],\n",
              "       [0.8004664 , 0.76497048],\n",
              "       [0.80377446, 0.76187335],\n",
              "       [0.71022309, 0.78336877],\n",
              "       [0.58501047, 0.33854938],\n",
              "       [0.60683272, 0.4451708 ],\n",
              "       [0.43332467, 0.54493639],\n",
              "       [0.35980724, 0.47657219],\n",
              "       [0.        , 0.43813991],\n",
              "       [0.0524092 , 0.3778329 ],\n",
              "       [0.25382282, 0.27456941],\n",
              "       [0.4165988 , 0.34753226],\n",
              "       [0.44486247, 0.6402196 ],\n",
              "       [0.54216952, 1.        ],\n",
              "       [0.37044979, 0.29836531],\n",
              "       [0.44101508, 0.13836965],\n",
              "       [0.45460977, 0.03684186]])"
            ]
          },
          "metadata": {
            "tags": []
          },
          "execution_count": 43
        }
      ]
    },
    {
      "metadata": {
        "id": "nUriPBQx6O7b",
        "colab_type": "text"
      },
      "cell_type": "markdown",
      "source": [
        "# Divide into Train-/Test Data"
      ]
    },
    {
      "metadata": {
        "id": "ppT_gwgR6O7c",
        "colab_type": "code",
        "outputId": "33453345-8015-4dca-9bdf-6394661d922e",
        "colab": {
          "base_uri": "https://localhost:8080/",
          "height": 32
        }
      },
      "cell_type": "code",
      "source": [
        "### Könnte es hier noch versuchen im LSTM Model mit mehr/weniger als den letzten 20 Tagen zu rechnen! ###\n",
        "\n",
        "X_train = []\n",
        "y_train = []\n",
        "for i in range (3, len(normalizeddata) - 3):\n",
        "    y_train.append(normalizeddata[i,0])\n",
        "    X_train.append(np.array((normalizeddata[i+1:i+4][::-1])))\n",
        "\n",
        "X_train = np.array(X_train).reshape(-1,3,2)\n",
        "y_train = np.array(y_train)\n",
        "\n",
        "X_test = []\n",
        "y_test = []\n",
        "for i in range (0,3):\n",
        "    y_test.append(normalizeddata[i,0])\n",
        "    X_test.append(np.array((normalizeddata[i+1:i+4][::-1])))\n",
        "\n",
        "X_test = np.array(X_test).reshape(-1,3,2)\n",
        "y_test = np.array(y_test)\n",
        "\n",
        "y_train.shape"
      ],
      "execution_count": 44,
      "outputs": [
        {
          "output_type": "execute_result",
          "data": {
            "text/plain": [
              "(16,)"
            ]
          },
          "metadata": {
            "tags": []
          },
          "execution_count": 44
        }
      ]
    },
    {
      "metadata": {
        "id": "BvLnlRtu6O7l",
        "colab_type": "text"
      },
      "cell_type": "markdown",
      "source": [
        "# Build model"
      ]
    },
    {
      "metadata": {
        "id": "RMzpxGfZ6O7n",
        "colab_type": "code",
        "colab": {}
      },
      "cell_type": "code",
      "source": [
        "from keras.layers.core import Activation, Dropout, Dense\n",
        "from keras.models import Sequential\n",
        "from keras.layers import LSTM\n",
        "from keras.layers import Dense\n",
        "from keras import regularizers\n",
        "\n",
        "#model = Sequential()\n",
        "#Kernel regularizer soll angeblich besser funktionieren als Dropout layer um Overfitting zu vermeiden (da sich das Modell sonst zu sehr an Daten erinnert!\n",
        "#model.add(LSTM(100,activation=\"tanh\", return_sequences=True,input_shape = (3, 2),kernel_regularizer= regularizers.l2(0.01)))\n",
        "#model.add(LSTM(50,activation=\"tanh\", return_sequences=True))\n",
        "#model.add(Dropout(0.2))\n",
        "#model.add(LSTM(1,activation =\"tanh\"))\n",
        "#model.add(Activation(\"linear\"))\n",
        "\n",
        "model = Sequential()\n",
        "\n",
        "model.add(LSTM(1,activation=\"relu\", input_shape = (3, 2)))\n",
        "#model.add(LSTM(50,activation=\"tanh\", return_sequences=True))\n",
        "#model.add(Dropout(0.2))\n",
        "#model.add(LSTM(1,activation =\"tanh\"))\n",
        "#model.add(Activation(\"linear\"))\n",
        "\n",
        "model.compile(optimizer=\"adam\", loss=\"mse\")"
      ],
      "execution_count": 0,
      "outputs": []
    },
    {
      "metadata": {
        "id": "YJEzLZwa6O7v",
        "colab_type": "text"
      },
      "cell_type": "markdown",
      "source": [
        "# Train model"
      ]
    },
    {
      "metadata": {
        "id": "KtUdQXnO6O7x",
        "colab_type": "code",
        "outputId": "1af7f2d4-b9ba-4299-b230-494029848629",
        "colab": {
          "base_uri": "https://localhost:8080/",
          "height": 3327
        }
      },
      "cell_type": "code",
      "source": [
        "model.fit(X_train, y_train, batch_size = 10, epochs = 100)"
      ],
      "execution_count": 46,
      "outputs": [
        {
          "output_type": "stream",
          "text": [
            "Epoch 1/100\n",
            "16/16 [==============================] - 1s 34ms/step - loss: 0.3095\n",
            "Epoch 2/100\n",
            "16/16 [==============================] - 0s 1ms/step - loss: 0.3086\n",
            "Epoch 3/100\n",
            "16/16 [==============================] - 0s 1ms/step - loss: 0.3076\n",
            "Epoch 4/100\n",
            "16/16 [==============================] - 0s 1ms/step - loss: 0.3066\n",
            "Epoch 5/100\n",
            "16/16 [==============================] - 0s 1ms/step - loss: 0.3054\n",
            "Epoch 6/100\n",
            "16/16 [==============================] - 0s 1ms/step - loss: 0.3045\n",
            "Epoch 7/100\n",
            "16/16 [==============================] - 0s 1ms/step - loss: 0.3033\n",
            "Epoch 8/100\n",
            "16/16 [==============================] - 0s 1ms/step - loss: 0.3022\n",
            "Epoch 9/100\n",
            "16/16 [==============================] - 0s 1ms/step - loss: 0.3010\n",
            "Epoch 10/100\n",
            "16/16 [==============================] - 0s 1ms/step - loss: 0.2999\n",
            "Epoch 11/100\n",
            "16/16 [==============================] - 0s 1ms/step - loss: 0.2988\n",
            "Epoch 12/100\n",
            "16/16 [==============================] - 0s 1ms/step - loss: 0.2975\n",
            "Epoch 13/100\n",
            "16/16 [==============================] - 0s 1ms/step - loss: 0.2964\n",
            "Epoch 14/100\n",
            "16/16 [==============================] - 0s 1ms/step - loss: 0.2952\n",
            "Epoch 15/100\n",
            "16/16 [==============================] - 0s 1ms/step - loss: 0.2941\n",
            "Epoch 16/100\n",
            "16/16 [==============================] - 0s 1ms/step - loss: 0.2927\n",
            "Epoch 17/100\n",
            "16/16 [==============================] - 0s 1ms/step - loss: 0.2914\n",
            "Epoch 18/100\n",
            "16/16 [==============================] - 0s 1ms/step - loss: 0.2902\n",
            "Epoch 19/100\n",
            "16/16 [==============================] - 0s 2ms/step - loss: 0.2889\n",
            "Epoch 20/100\n",
            "16/16 [==============================] - 0s 1ms/step - loss: 0.2877\n",
            "Epoch 21/100\n",
            "16/16 [==============================] - 0s 1ms/step - loss: 0.2863\n",
            "Epoch 22/100\n",
            "16/16 [==============================] - 0s 1ms/step - loss: 0.2851\n",
            "Epoch 23/100\n",
            "16/16 [==============================] - 0s 1ms/step - loss: 0.2834\n",
            "Epoch 24/100\n",
            "16/16 [==============================] - 0s 1ms/step - loss: 0.2817\n",
            "Epoch 25/100\n",
            "16/16 [==============================] - 0s 2ms/step - loss: 0.2794\n",
            "Epoch 26/100\n",
            "16/16 [==============================] - 0s 2ms/step - loss: 0.2773\n",
            "Epoch 27/100\n",
            "16/16 [==============================] - 0s 2ms/step - loss: 0.2749\n",
            "Epoch 28/100\n",
            "16/16 [==============================] - 0s 2ms/step - loss: 0.2720\n",
            "Epoch 29/100\n",
            "16/16 [==============================] - 0s 1ms/step - loss: 0.2693\n",
            "Epoch 30/100\n",
            "16/16 [==============================] - 0s 2ms/step - loss: 0.2668\n",
            "Epoch 31/100\n",
            "16/16 [==============================] - 0s 2ms/step - loss: 0.2640\n",
            "Epoch 32/100\n",
            "16/16 [==============================] - 0s 2ms/step - loss: 0.2616\n",
            "Epoch 33/100\n",
            "16/16 [==============================] - 0s 2ms/step - loss: 0.2588\n",
            "Epoch 34/100\n",
            "16/16 [==============================] - 0s 2ms/step - loss: 0.2562\n",
            "Epoch 35/100\n",
            "16/16 [==============================] - 0s 2ms/step - loss: 0.2535\n",
            "Epoch 36/100\n",
            "16/16 [==============================] - 0s 2ms/step - loss: 0.2508\n",
            "Epoch 37/100\n",
            "16/16 [==============================] - 0s 2ms/step - loss: 0.2477\n",
            "Epoch 38/100\n",
            "16/16 [==============================] - 0s 2ms/step - loss: 0.2449\n",
            "Epoch 39/100\n",
            "16/16 [==============================] - 0s 2ms/step - loss: 0.2424\n",
            "Epoch 40/100\n",
            "16/16 [==============================] - 0s 3ms/step - loss: 0.2390\n",
            "Epoch 41/100\n",
            "16/16 [==============================] - 0s 2ms/step - loss: 0.2351\n",
            "Epoch 42/100\n",
            "16/16 [==============================] - 0s 2ms/step - loss: 0.2315\n",
            "Epoch 43/100\n",
            "16/16 [==============================] - 0s 2ms/step - loss: 0.2276\n",
            "Epoch 44/100\n",
            "16/16 [==============================] - 0s 2ms/step - loss: 0.2238\n",
            "Epoch 45/100\n",
            "16/16 [==============================] - 0s 2ms/step - loss: 0.2200\n",
            "Epoch 46/100\n",
            "16/16 [==============================] - 0s 2ms/step - loss: 0.2158\n",
            "Epoch 47/100\n",
            "16/16 [==============================] - 0s 2ms/step - loss: 0.2124\n",
            "Epoch 48/100\n",
            "16/16 [==============================] - 0s 2ms/step - loss: 0.2080\n",
            "Epoch 49/100\n",
            "16/16 [==============================] - 0s 2ms/step - loss: 0.2042\n",
            "Epoch 50/100\n",
            "16/16 [==============================] - 0s 2ms/step - loss: 0.2003\n",
            "Epoch 51/100\n",
            "16/16 [==============================] - 0s 2ms/step - loss: 0.1965\n",
            "Epoch 52/100\n",
            "16/16 [==============================] - 0s 2ms/step - loss: 0.1927\n",
            "Epoch 53/100\n",
            "16/16 [==============================] - 0s 2ms/step - loss: 0.1884\n",
            "Epoch 54/100\n",
            "16/16 [==============================] - 0s 2ms/step - loss: 0.1853\n",
            "Epoch 55/100\n",
            "16/16 [==============================] - 0s 2ms/step - loss: 0.1809\n",
            "Epoch 56/100\n",
            "16/16 [==============================] - 0s 2ms/step - loss: 0.1773\n",
            "Epoch 57/100\n",
            "16/16 [==============================] - 0s 2ms/step - loss: 0.1729\n",
            "Epoch 58/100\n",
            "16/16 [==============================] - 0s 2ms/step - loss: 0.1694\n",
            "Epoch 59/100\n",
            "16/16 [==============================] - 0s 2ms/step - loss: 0.1662\n",
            "Epoch 60/100\n",
            "16/16 [==============================] - 0s 2ms/step - loss: 0.1624\n",
            "Epoch 61/100\n",
            "16/16 [==============================] - 0s 2ms/step - loss: 0.1588\n",
            "Epoch 62/100\n",
            "16/16 [==============================] - 0s 2ms/step - loss: 0.1549\n",
            "Epoch 63/100\n",
            "16/16 [==============================] - 0s 2ms/step - loss: 0.1518\n",
            "Epoch 64/100\n",
            "16/16 [==============================] - 0s 2ms/step - loss: 0.1483\n",
            "Epoch 65/100\n",
            "16/16 [==============================] - 0s 2ms/step - loss: 0.1448\n",
            "Epoch 66/100\n",
            "16/16 [==============================] - 0s 2ms/step - loss: 0.1417\n",
            "Epoch 67/100\n",
            "16/16 [==============================] - 0s 2ms/step - loss: 0.1382\n",
            "Epoch 68/100\n",
            "16/16 [==============================] - 0s 2ms/step - loss: 0.1351\n",
            "Epoch 69/100\n",
            "16/16 [==============================] - 0s 2ms/step - loss: 0.1320\n",
            "Epoch 70/100\n",
            "16/16 [==============================] - 0s 2ms/step - loss: 0.1291\n",
            "Epoch 71/100\n",
            "16/16 [==============================] - 0s 2ms/step - loss: 0.1255\n",
            "Epoch 72/100\n",
            "16/16 [==============================] - 0s 2ms/step - loss: 0.1228\n",
            "Epoch 73/100\n",
            "16/16 [==============================] - 0s 2ms/step - loss: 0.1198\n",
            "Epoch 74/100\n",
            "16/16 [==============================] - 0s 3ms/step - loss: 0.1172\n",
            "Epoch 75/100\n",
            "16/16 [==============================] - 0s 2ms/step - loss: 0.1142\n",
            "Epoch 76/100\n",
            "16/16 [==============================] - 0s 2ms/step - loss: 0.1113\n",
            "Epoch 77/100\n",
            "16/16 [==============================] - 0s 2ms/step - loss: 0.1084\n",
            "Epoch 78/100\n",
            "16/16 [==============================] - 0s 2ms/step - loss: 0.1060\n",
            "Epoch 79/100\n",
            "16/16 [==============================] - 0s 2ms/step - loss: 0.1035\n",
            "Epoch 80/100\n",
            "16/16 [==============================] - 0s 2ms/step - loss: 0.1006\n",
            "Epoch 81/100\n",
            "16/16 [==============================] - 0s 2ms/step - loss: 0.0987\n",
            "Epoch 82/100\n",
            "16/16 [==============================] - 0s 2ms/step - loss: 0.0958\n",
            "Epoch 83/100\n",
            "16/16 [==============================] - 0s 2ms/step - loss: 0.0932\n",
            "Epoch 84/100\n",
            "16/16 [==============================] - 0s 2ms/step - loss: 0.0912\n",
            "Epoch 85/100\n",
            "16/16 [==============================] - 0s 2ms/step - loss: 0.0886\n",
            "Epoch 86/100\n",
            "16/16 [==============================] - 0s 2ms/step - loss: 0.0863\n",
            "Epoch 87/100\n",
            "16/16 [==============================] - 0s 2ms/step - loss: 0.0844\n",
            "Epoch 88/100\n",
            "16/16 [==============================] - 0s 2ms/step - loss: 0.0820\n",
            "Epoch 89/100\n",
            "16/16 [==============================] - 0s 2ms/step - loss: 0.0798\n",
            "Epoch 90/100\n",
            "16/16 [==============================] - 0s 2ms/step - loss: 0.0781\n",
            "Epoch 91/100\n",
            "16/16 [==============================] - 0s 2ms/step - loss: 0.0759\n",
            "Epoch 92/100\n",
            "16/16 [==============================] - 0s 2ms/step - loss: 0.0741\n",
            "Epoch 93/100\n",
            "16/16 [==============================] - 0s 2ms/step - loss: 0.0724\n",
            "Epoch 94/100\n",
            "16/16 [==============================] - 0s 2ms/step - loss: 0.0706\n",
            "Epoch 95/100\n",
            "16/16 [==============================] - 0s 2ms/step - loss: 0.0689\n",
            "Epoch 96/100\n",
            "16/16 [==============================] - 0s 2ms/step - loss: 0.0674\n",
            "Epoch 97/100\n",
            "16/16 [==============================] - 0s 2ms/step - loss: 0.0661\n",
            "Epoch 98/100\n",
            "16/16 [==============================] - 0s 2ms/step - loss: 0.0645\n",
            "Epoch 99/100\n",
            "16/16 [==============================] - 0s 2ms/step - loss: 0.0631\n",
            "Epoch 100/100\n",
            "16/16 [==============================] - 0s 2ms/step - loss: 0.0620\n"
          ],
          "name": "stdout"
        },
        {
          "output_type": "execute_result",
          "data": {
            "text/plain": [
              "<keras.callbacks.History at 0x7f632ffdd9b0>"
            ]
          },
          "metadata": {
            "tags": []
          },
          "execution_count": 46
        }
      ]
    },
    {
      "metadata": {
        "id": "X9ZyZwnKSfJU",
        "colab_type": "text"
      },
      "cell_type": "markdown",
      "source": [
        "# Import model if needed"
      ]
    },
    {
      "metadata": {
        "id": "j-vufcHySfRv",
        "colab_type": "code",
        "colab": {}
      },
      "cell_type": "code",
      "source": [
        "#from keras.models import load_model\n",
        "#model = load_model('1LayerLSTM.hdf5')"
      ],
      "execution_count": 0,
      "outputs": []
    },
    {
      "metadata": {
        "id": "YQM8pPVF6O75",
        "colab_type": "text"
      },
      "cell_type": "markdown",
      "source": [
        "# Evaluate predictions + use"
      ]
    },
    {
      "metadata": {
        "id": "IpiCqMi36O76",
        "colab_type": "code",
        "outputId": "450179e3-1d43-4947-a61a-f1053a8ae512",
        "colab": {
          "base_uri": "https://localhost:8080/",
          "height": 279
        }
      },
      "cell_type": "code",
      "source": [
        "model.predict(X_train)"
      ],
      "execution_count": 48,
      "outputs": [
        {
          "output_type": "execute_result",
          "data": {
            "text/plain": [
              "array([[0.7825348 ],\n",
              "       [0.6115483 ],\n",
              "       [0.5621635 ],\n",
              "       [0.5707313 ],\n",
              "       [0.534925  ],\n",
              "       [0.45493826],\n",
              "       [0.36916995],\n",
              "       [0.1914453 ],\n",
              "       [0.10640403],\n",
              "       [0.07598403],\n",
              "       [0.17753215],\n",
              "       [0.2630952 ],\n",
              "       [0.2459665 ],\n",
              "       [0.24873394],\n",
              "       [0.33948943],\n",
              "       [0.42618436]], dtype=float32)"
            ]
          },
          "metadata": {
            "tags": []
          },
          "execution_count": 48
        }
      ]
    },
    {
      "metadata": {
        "id": "sJ0ZLEj66O79",
        "colab_type": "text"
      },
      "cell_type": "markdown",
      "source": [
        "# Predict for X_train"
      ]
    },
    {
      "metadata": {
        "id": "1ytVteQb6O7-",
        "colab_type": "code",
        "outputId": "c394fd0f-be60-4552-ec2b-8577c11822b7",
        "colab": {
          "base_uri": "https://localhost:8080/",
          "height": 32
        }
      },
      "cell_type": "code",
      "source": [
        "y_predtrain = model.predict(X_train)\n",
        "y_predtrain = y_predtrain.reshape(-1)\n",
        "y_predtrain.shape"
      ],
      "execution_count": 49,
      "outputs": [
        {
          "output_type": "execute_result",
          "data": {
            "text/plain": [
              "(16,)"
            ]
          },
          "metadata": {
            "tags": []
          },
          "execution_count": 49
        }
      ]
    },
    {
      "metadata": {
        "id": "_FAHHluD6O8B",
        "colab_type": "code",
        "outputId": "2a928ec6-4f29-419b-dae1-77ab5dd2ceae",
        "colab": {
          "base_uri": "https://localhost:8080/",
          "height": 131
        }
      },
      "cell_type": "code",
      "source": [
        "df_predtrain = df[3:-3]\n",
        "df_predtrain[\"Close_predicted_train\"] =  scaler1.inverse_transform(y_predtrain.reshape(-1, 1))\n",
        "df_predtrain.shape"
      ],
      "execution_count": 50,
      "outputs": [
        {
          "output_type": "stream",
          "text": [
            "/usr/local/lib/python3.6/dist-packages/ipykernel_launcher.py:2: SettingWithCopyWarning: \n",
            "A value is trying to be set on a copy of a slice from a DataFrame.\n",
            "Try using .loc[row_indexer,col_indexer] = value instead\n",
            "\n",
            "See the caveats in the documentation: http://pandas.pydata.org/pandas-docs/stable/indexing.html#indexing-view-versus-copy\n",
            "  \n"
          ],
          "name": "stderr"
        },
        {
          "output_type": "execute_result",
          "data": {
            "text/plain": [
              "(16, 9)"
            ]
          },
          "metadata": {
            "tags": []
          },
          "execution_count": 50
        }
      ]
    },
    {
      "metadata": {
        "id": "k39D_kSk6O8E",
        "colab_type": "text"
      },
      "cell_type": "markdown",
      "source": [
        "# Predict for X_test"
      ]
    },
    {
      "metadata": {
        "id": "_x7paTeD6O8F",
        "colab_type": "code",
        "outputId": "148f04c9-0cb0-4e80-bd90-1c68908db02b",
        "colab": {
          "base_uri": "https://localhost:8080/",
          "height": 32
        }
      },
      "cell_type": "code",
      "source": [
        "y_pred = model.predict(X_test)\n",
        "y_pred = y_pred.reshape(-1)\n",
        "y_pred.shape"
      ],
      "execution_count": 51,
      "outputs": [
        {
          "output_type": "execute_result",
          "data": {
            "text/plain": [
              "(3,)"
            ]
          },
          "metadata": {
            "tags": []
          },
          "execution_count": 51
        }
      ]
    },
    {
      "metadata": {
        "id": "BVhwdUga6O8I",
        "colab_type": "code",
        "outputId": "0f955bbc-3356-4716-dfcb-293be5251697",
        "colab": {
          "base_uri": "https://localhost:8080/",
          "height": 131
        }
      },
      "cell_type": "code",
      "source": [
        "df_pred = df[:3]\n",
        "df_pred[\"Close_predicted_test\"] = scaler1.inverse_transform(y_pred.reshape(-1, 1))\n",
        "df_pred.shape"
      ],
      "execution_count": 52,
      "outputs": [
        {
          "output_type": "stream",
          "text": [
            "/usr/local/lib/python3.6/dist-packages/ipykernel_launcher.py:2: SettingWithCopyWarning: \n",
            "A value is trying to be set on a copy of a slice from a DataFrame.\n",
            "Try using .loc[row_indexer,col_indexer] = value instead\n",
            "\n",
            "See the caveats in the documentation: http://pandas.pydata.org/pandas-docs/stable/indexing.html#indexing-view-versus-copy\n",
            "  \n"
          ],
          "name": "stderr"
        },
        {
          "output_type": "execute_result",
          "data": {
            "text/plain": [
              "(3, 9)"
            ]
          },
          "metadata": {
            "tags": []
          },
          "execution_count": 52
        }
      ]
    },
    {
      "metadata": {
        "id": "kFoqAfqFOh1g",
        "colab_type": "code",
        "outputId": "295c4fc8-e099-4345-aba8-d3774805faa1",
        "colab": {
          "base_uri": "https://localhost:8080/",
          "height": 337
        }
      },
      "cell_type": "code",
      "source": [
        "df_pred['Buy/Sell'] = np.where(df_pred[\"Close_before\"] <= df_pred[\"Close\"], 'Buy', 'Sell')\n",
        "\n",
        "df_pred['Buy/Sell_pred'] = np.where(df_pred[\"Close_before\"] <= df_pred[\"Close_predicted_test\"], 'Buy', 'Sell')\n",
        "\n",
        "df_pred = df_pred[[\"Date\",\"Close\", \"Close_before\",\"Close_predicted_test\",\"Buy/Sell\",\"Buy/Sell_pred\"]]\n",
        "\n",
        "df_pred_calc = df_pred.iloc[::-1]\n",
        "df_pred_calc = df_pred_calc.reset_index()\n",
        "df_pred_calc = df_pred_calc.drop (\"index\", axis=1)\n",
        "df_pred_calc"
      ],
      "execution_count": 53,
      "outputs": [
        {
          "output_type": "stream",
          "text": [
            "/usr/local/lib/python3.6/dist-packages/ipykernel_launcher.py:1: SettingWithCopyWarning: \n",
            "A value is trying to be set on a copy of a slice from a DataFrame.\n",
            "Try using .loc[row_indexer,col_indexer] = value instead\n",
            "\n",
            "See the caveats in the documentation: http://pandas.pydata.org/pandas-docs/stable/indexing.html#indexing-view-versus-copy\n",
            "  \"\"\"Entry point for launching an IPython kernel.\n",
            "/usr/local/lib/python3.6/dist-packages/ipykernel_launcher.py:3: SettingWithCopyWarning: \n",
            "A value is trying to be set on a copy of a slice from a DataFrame.\n",
            "Try using .loc[row_indexer,col_indexer] = value instead\n",
            "\n",
            "See the caveats in the documentation: http://pandas.pydata.org/pandas-docs/stable/indexing.html#indexing-view-versus-copy\n",
            "  This is separate from the ipykernel package so we can avoid doing imports until\n"
          ],
          "name": "stderr"
        },
        {
          "output_type": "execute_result",
          "data": {
            "text/html": [
              "<div>\n",
              "<style scoped>\n",
              "    .dataframe tbody tr th:only-of-type {\n",
              "        vertical-align: middle;\n",
              "    }\n",
              "\n",
              "    .dataframe tbody tr th {\n",
              "        vertical-align: top;\n",
              "    }\n",
              "\n",
              "    .dataframe thead th {\n",
              "        text-align: right;\n",
              "    }\n",
              "</style>\n",
              "<table border=\"1\" class=\"dataframe\">\n",
              "  <thead>\n",
              "    <tr style=\"text-align: right;\">\n",
              "      <th></th>\n",
              "      <th>Date</th>\n",
              "      <th>Close</th>\n",
              "      <th>Close_before</th>\n",
              "      <th>Close_predicted_test</th>\n",
              "      <th>Buy/Sell</th>\n",
              "      <th>Buy/Sell_pred</th>\n",
              "    </tr>\n",
              "  </thead>\n",
              "  <tbody>\n",
              "    <tr>\n",
              "      <th>0</th>\n",
              "      <td>2019-03-25</td>\n",
              "      <td>2798.360107</td>\n",
              "      <td>2800.709961</td>\n",
              "      <td>2816.581543</td>\n",
              "      <td>Sell</td>\n",
              "      <td>Buy</td>\n",
              "    </tr>\n",
              "    <tr>\n",
              "      <th>1</th>\n",
              "      <td>2019-03-26</td>\n",
              "      <td>2818.459961</td>\n",
              "      <td>2798.360107</td>\n",
              "      <td>2810.922852</td>\n",
              "      <td>Buy</td>\n",
              "      <td>Buy</td>\n",
              "    </tr>\n",
              "    <tr>\n",
              "      <th>2</th>\n",
              "      <td>2019-03-27</td>\n",
              "      <td>2805.370117</td>\n",
              "      <td>2818.459961</td>\n",
              "      <td>2814.355713</td>\n",
              "      <td>Sell</td>\n",
              "      <td>Sell</td>\n",
              "    </tr>\n",
              "  </tbody>\n",
              "</table>\n",
              "</div>"
            ],
            "text/plain": [
              "         Date        Close  Close_before  Close_predicted_test Buy/Sell  \\\n",
              "0  2019-03-25  2798.360107   2800.709961           2816.581543     Sell   \n",
              "1  2019-03-26  2818.459961   2798.360107           2810.922852      Buy   \n",
              "2  2019-03-27  2805.370117   2818.459961           2814.355713     Sell   \n",
              "\n",
              "  Buy/Sell_pred  \n",
              "0           Buy  \n",
              "1           Buy  \n",
              "2          Sell  "
            ]
          },
          "metadata": {
            "tags": []
          },
          "execution_count": 53
        }
      ]
    },
    {
      "metadata": {
        "id": "w1n3ThrFOqxK",
        "colab_type": "code",
        "outputId": "41c0d284-3526-48cd-ff36-3e2925726f00",
        "colab": {
          "base_uri": "https://localhost:8080/",
          "height": 49
        }
      },
      "cell_type": "code",
      "source": [
        "Cash = 10000\n",
        "count = 0\n",
        "NoStock = 0\n",
        "\n",
        "for i in df_pred_calc[\"Close_before\"]:\n",
        "  if df_pred_calc[\"Buy/Sell_pred\"][count]==\"Buy\":\n",
        "    Cash = Cash - i * 1\n",
        "    NoStock = NoStock + 1\n",
        "  else:\n",
        "    if NoStock > 0:\n",
        "      Cash = Cash + i * 1 \n",
        "      NoStock = NoStock - 1\n",
        "    else: \n",
        "      Cash = Cash\n",
        "      NoStock = NoStock\n",
        "  \n",
        "  count = count + 1\n",
        "  \n",
        "print(\"Cash after trading: \" + str(Cash + (NoStock * df_pred_calc[\"Close\"][len(df_pred_calc)-1])))\n",
        "print(\"Stocks end of period: \" + str(NoStock))"
      ],
      "execution_count": 54,
      "outputs": [
        {
          "output_type": "stream",
          "text": [
            "Cash after trading: 10024.760009765625\n",
            "Stocks end of period: 1\n"
          ],
          "name": "stdout"
        }
      ]
    },
    {
      "metadata": {
        "id": "UQFpfDYV6O8K",
        "colab_type": "text"
      },
      "cell_type": "markdown",
      "source": [
        "## Training Dataframe"
      ]
    },
    {
      "metadata": {
        "id": "6kboVjcK6O8L",
        "colab_type": "code",
        "outputId": "2c904c15-5f58-4c5b-f9f2-de476ce003cd",
        "colab": {
          "base_uri": "https://localhost:8080/",
          "height": 292
        }
      },
      "cell_type": "code",
      "source": [
        "years = mdates.YearLocator()   # every year\n",
        "months = mdates.MonthLocator()  # every month\n",
        "yearsFmt = mdates.DateFormatter('%Y')\n",
        "\n",
        "# Sorgt dafür das lediglich Jahreszahlen angezeigt werden wenn gewünscht\n",
        "#ax = plt.gca() -> Nur verwenden wenn plotten über plt Methode\n",
        "ax.xaxis.set_major_locator(years)\n",
        "ax.xaxis.set_major_formatter(yearsFmt)\n",
        "ax.xaxis.set_minor_locator(months)\n",
        "\n",
        "dates1 = np.array(df_predtrain[\"Date\"]).astype(np.datetime64)\n",
        "\n",
        "x = dates1\n",
        "y1 = df_predtrain[\"Close\"]\n",
        "y2 = df_predtrain[\"Close_predicted_train\"]\n",
        "\n",
        "\n",
        "fig1 = plt.figure(figsize=plt.figaspect(0.3))\n",
        "fig1.add_axes()\n",
        "\n",
        "ax1 = fig1.add_subplot(111)\n",
        "ax1.plot(x,y1)\n",
        "ax1.plot(x,y2)\n",
        "ax1.set(title = \"Stock price Train_predicted\",\n",
        "      ylabel = \"Stock price\",\n",
        "      xlabel = \"Date\")\n",
        "ax1.legend(loc = \"best\")\n",
        "\n",
        "ax1.legend()\n",
        "\n",
        "plt.show()"
      ],
      "execution_count": 55,
      "outputs": [
        {
          "output_type": "display_data",
          "data": {
            "image/png": "[encoded data removed]",
            "text/plain": [
              "<Figure size 960x288 with 1 Axes>"
            ]
          },
          "metadata": {
            "tags": []
          }
        }
      ]
    },
    {
      "metadata": {
        "id": "g4AUzfD86O8O",
        "colab_type": "code",
        "outputId": "b68d4ec6-7f6c-4b13-8819-5e6cace0b571",
        "colab": {
          "base_uri": "https://localhost:8080/",
          "height": 32
        }
      },
      "cell_type": "code",
      "source": [
        "import sklearn.metrics, math\n",
        "\n",
        "print(\"R square: %f\" % sklearn.metrics.r2_score(df_predtrain[\"Close\"],df_predtrain[\"Close_predicted_train\"]))"
      ],
      "execution_count": 56,
      "outputs": [
        {
          "output_type": "stream",
          "text": [
            "R square: 0.105593\n"
          ],
          "name": "stdout"
        }
      ]
    },
    {
      "metadata": {
        "id": "4Og87vxG6O8S",
        "colab_type": "text"
      },
      "cell_type": "markdown",
      "source": [
        "## Test DF"
      ]
    },
    {
      "metadata": {
        "scrolled": true,
        "id": "JCr16Z-16O8T",
        "colab_type": "code",
        "outputId": "02ed1c14-c523-4827-b1a8-819ec3655459",
        "colab": {
          "base_uri": "https://localhost:8080/",
          "height": 292
        }
      },
      "cell_type": "code",
      "source": [
        "years = mdates.YearLocator()   # every year\n",
        "months = mdates.MonthLocator()  # every month\n",
        "yearsFmt = mdates.DateFormatter('%Y')\n",
        "\n",
        "# Sorgt dafür das lediglich Jahreszahlen angezeigt werden wenn gewünscht\n",
        "#ax = plt.gca() -> Nur verwenden wenn plotten über plt Methode\n",
        "ax.xaxis.set_major_locator(years)\n",
        "ax.xaxis.set_major_formatter(yearsFmt)\n",
        "ax.xaxis.set_minor_locator(months)\n",
        "\n",
        "dates2 = np.array(df_pred[\"Date\"]).astype(np.datetime64)\n",
        "\n",
        "x1 = dates2\n",
        "y3 = df_pred[\"Close\"]\n",
        "y4 = df_pred[\"Close_predicted_test\"]\n",
        "\n",
        "\n",
        "fig1 = plt.figure(figsize=plt.figaspect(0.3))\n",
        "fig1.add_axes()\n",
        "\n",
        "ax1 = fig1.add_subplot(111)\n",
        "ax1.plot(x1,y3)\n",
        "ax1.plot(x1,y4)\n",
        "ax1.set(title = \"Stock price Test_predicted\",\n",
        "      ylabel = \"Stock price\",\n",
        "      xlabel = \"Date\")\n",
        "ax1.legend(loc = \"best\")\n",
        "\n",
        "ax1.legend()\n",
        "\n",
        "plt.show()"
      ],
      "execution_count": 57,
      "outputs": [
        {
          "output_type": "display_data",
          "data": {
            "image/png": "[encoded data removed]",
            "text/plain": [
              "<Figure size 960x288 with 1 Axes>"
            ]
          },
          "metadata": {
            "tags": []
          }
        }
      ]
    },
    {
      "metadata": {
        "id": "QK5UScTE6O8Y",
        "colab_type": "code",
        "outputId": "a7726cff-39f0-47c3-cec2-a281f595d30d",
        "colab": {
          "base_uri": "https://localhost:8080/",
          "height": 32
        }
      },
      "cell_type": "code",
      "source": [
        "print(\"R square: %f\" % sklearn.metrics.r2_score(df_pred[\"Close\"],df_pred[\"Close_predicted_test\"]))"
      ],
      "execution_count": 58,
      "outputs": [
        {
          "output_type": "stream",
          "text": [
            "R square: -1.255781\n"
          ],
          "name": "stdout"
        }
      ]
    },
    {
      "metadata": {
        "id": "YSVBr5zk6O8c",
        "colab_type": "code",
        "colab": {}
      },
      "cell_type": "code",
      "source": [
        "### 1. Schauen wie das Modell mit anderen Daten (bspw. TSLA performt) ###\n",
        "\n",
        "### Nun andere Modelle mit diesen Train/Test Daten trainieren und dann anhand MSE & R^2 miteinander vergleichen ###"
      ],
      "execution_count": 0,
      "outputs": []
    }
  ]
}