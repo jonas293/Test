{
  "nbformat": 4,
  "nbformat_minor": 0,
  "metadata": {
    "colab": {
      "name": "Scale First LSTM NN-1Inputs.ipynb",
      "version": "0.3.2",
      "provenance": [],
      "collapsed_sections": [],
      "include_colab_link": true
    },
    "kernelspec": {
      "name": "python3",
      "display_name": "Python 3"
    },
    "accelerator": "GPU"
  },
  "cells": [
    {
      "cell_type": "markdown",
      "metadata": {
        "id": "view-in-github",
        "colab_type": "text"
      },
      "source": [
        "<a href=\"https://colab.research.google.com/github/jonas293/Test/blob/Bra/Scale_First_LSTM_NN_1Inputs.ipynb\" target=\"_parent\"><img src=\"https://colab.research.google.com/assets/colab-badge.svg\" alt=\"Open In Colab\"/></a>"
      ]
    },
    {
      "metadata": {
        "id": "XHP9LbzBIJJV",
        "colab_type": "text"
      },
      "cell_type": "markdown",
      "source": [
        "# Start Google GPU"
      ]
    },
    {
      "metadata": {
        "id": "bpl28dUeHt-H",
        "colab_type": "code",
        "outputId": "1c13da07-ee30-498f-dd18-d1fa646d38b2",
        "colab": {
          "base_uri": "https://localhost:8080/",
          "height": 32
        }
      },
      "cell_type": "code",
      "source": [
        "import tensorflow as tf\n",
        "print(tf.test.gpu_device_name())\n",
        "#Check Github"
      ],
      "execution_count": 0,
      "outputs": [
        {
          "output_type": "stream",
          "text": [
            "/device:GPU:0\n"
          ],
          "name": "stdout"
        }
      ]
    },
    {
      "metadata": {
        "id": "oyKNXchqKe42",
        "colab_type": "code",
        "outputId": "8766b80c-b2b9-480d-95e4-542416db2c75",
        "colab": {
          "base_uri": "https://localhost:8080/",
          "height": 303
        }
      },
      "cell_type": "code",
      "source": [
        "!nvidia-smi"
      ],
      "execution_count": 0,
      "outputs": [
        {
          "output_type": "stream",
          "text": [
            "Thu Mar 28 09:10:40 2019       \n",
            "+-----------------------------------------------------------------------------+\n",
            "| NVIDIA-SMI 418.43       Driver Version: 410.79       CUDA Version: 10.0     |\n",
            "|-------------------------------+----------------------+----------------------+\n",
            "| GPU  Name        Persistence-M| Bus-Id        Disp.A | Volatile Uncorr. ECC |\n",
            "| Fan  Temp  Perf  Pwr:Usage/Cap|         Memory-Usage | GPU-Util  Compute M. |\n",
            "|===============================+======================+======================|\n",
            "|   0  Tesla K80           Off  | 00000000:00:04.0 Off |                    0 |\n",
            "| N/A   73C    P0    73W / 149W |    258MiB / 11441MiB |      0%      Default |\n",
            "+-------------------------------+----------------------+----------------------+\n",
            "                                                                               \n",
            "+-----------------------------------------------------------------------------+\n",
            "| Processes:                                                       GPU Memory |\n",
            "|  GPU       PID   Type   Process name                             Usage      |\n",
            "|=============================================================================|\n",
            "+-----------------------------------------------------------------------------+\n"
          ],
          "name": "stdout"
        }
      ]
    },
    {
      "metadata": {
        "id": "I4SD_BUCHwtY",
        "colab_type": "code",
        "outputId": "93ea65b0-1e00-4ef7-9dd6-06a1ed945be4",
        "colab": {
          "base_uri": "https://localhost:8080/",
          "height": 174
        }
      },
      "cell_type": "code",
      "source": [
        "!pip install keras"
      ],
      "execution_count": 0,
      "outputs": [
        {
          "output_type": "stream",
          "text": [
            "Requirement already satisfied: keras in /usr/local/lib/python3.6/dist-packages (2.2.4)\n",
            "Requirement already satisfied: keras-preprocessing>=1.0.5 in /usr/local/lib/python3.6/dist-packages (from keras) (1.0.9)\n",
            "Requirement already satisfied: h5py in /usr/local/lib/python3.6/dist-packages (from keras) (2.8.0)\n",
            "Requirement already satisfied: keras-applications>=1.0.6 in /usr/local/lib/python3.6/dist-packages (from keras) (1.0.7)\n",
            "Requirement already satisfied: pyyaml in /usr/local/lib/python3.6/dist-packages (from keras) (3.13)\n",
            "Requirement already satisfied: scipy>=0.14 in /usr/local/lib/python3.6/dist-packages (from keras) (1.1.0)\n",
            "Requirement already satisfied: numpy>=1.9.1 in /usr/local/lib/python3.6/dist-packages (from keras) (1.14.6)\n",
            "Requirement already satisfied: six>=1.9.0 in /usr/local/lib/python3.6/dist-packages (from keras) (1.11.0)\n"
          ],
          "name": "stdout"
        }
      ]
    },
    {
      "metadata": {
        "id": "l3MLCW17Hw31",
        "colab_type": "code",
        "outputId": "79d732b8-f778-4123-f30e-81a2a5a507cb",
        "colab": {
          "base_uri": "https://localhost:8080/",
          "height": 32
        }
      },
      "cell_type": "code",
      "source": [
        "from keras import backend as K\n",
        "\n",
        "if 'tensorflow' == K.backend():\n",
        "  import tensorflow as tf\n",
        "  from keras.backend.tensorflow_backend import set_session\n",
        "  config = tf.ConfigProto()\n",
        "  config.gpu_options.allow_growth = True\n",
        "  config.gpu_options.visible_device_list = \"0\"\n",
        "  set_session(tf.Session(config=config))"
      ],
      "execution_count": 0,
      "outputs": [
        {
          "output_type": "stream",
          "text": [
            "Using TensorFlow backend.\n"
          ],
          "name": "stderr"
        }
      ]
    },
    {
      "metadata": {
        "id": "GooZEn4FHw8T",
        "colab_type": "code",
        "colab": {}
      },
      "cell_type": "code",
      "source": [
        "# Install the PyDrive wrapper & import libraries.\n",
        "# This only needs to be done once per notebook.\n",
        "!pip install -U -q PyDrive\n",
        "from pydrive.auth import GoogleAuth\n",
        "from pydrive.drive import GoogleDrive\n",
        "from google.colab import auth\n",
        "from oauth2client.client import GoogleCredentials\n",
        "\n",
        "# Authenticate and create the PyDrive client.\n",
        "# This only needs to be done once per notebook.\n",
        "auth.authenticate_user()\n",
        "gauth = GoogleAuth()\n",
        "gauth.credentials = GoogleCredentials.get_application_default()\n",
        "drive = GoogleDrive(gauth)"
      ],
      "execution_count": 0,
      "outputs": []
    },
    {
      "metadata": {
        "id": "qUc6yyxIHw_T",
        "colab_type": "code",
        "outputId": "c59afddd-d1a0-4201-f368-19535e7a94a3",
        "colab": {
          "base_uri": "https://localhost:8080/",
          "height": 32
        }
      },
      "cell_type": "code",
      "source": [
        "import os\n",
        "\n",
        "# choose a local (colab) directory to store the data.\n",
        "local_root_path = os.path.expanduser(\"~/Colab\")\n",
        "try:\n",
        "  os.makedirs(local_root_path)\n",
        "except: pass\n",
        "\n",
        "def ListFolder(google_drive_id, destination):\n",
        "  file_list = drive.ListFile({'q': \"'%s' in parents and trashed=false\" % google_drive_id}).GetList()\n",
        "  counter = 0\n",
        "  for f in file_list:\n",
        "    # If it is a directory then, create the dicrectory and upload the file inside it\n",
        "    if f['mimeType']=='application/vnd.google-apps.folder': \n",
        "      folder_path = os.path.join(destination, f['title'])\n",
        "      os.makedirs(folder_path)\n",
        "      print('creating directory {}'.format(folder_path))\n",
        "      ListFolder(f['id'], folder_path)\n",
        "    else:\n",
        "      fname = os.path.join(destination, f['title'])\n",
        "      f_ = drive.CreateFile({'id': f['id']})\n",
        "      f_.GetContentFile(fname)\n",
        "      counter += 1\n",
        "  print('{} files were uploaded in {}'.format(counter, destination))\n",
        "\n",
        "ListFolder(\"18cS38DYpGCfHnG3MKjmnjN4NUBSIEFpl\", local_root_path)"
      ],
      "execution_count": 0,
      "outputs": [
        {
          "output_type": "stream",
          "text": [
            "19 files were uploaded in /root/Colab\n"
          ],
          "name": "stdout"
        }
      ]
    },
    {
      "metadata": {
        "id": "j9UlL_yTHxCf",
        "colab_type": "code",
        "outputId": "a28635b1-ad0d-47a5-a02a-66d67d7db907",
        "colab": {
          "base_uri": "https://localhost:8080/",
          "height": 207
        }
      },
      "cell_type": "code",
      "source": [
        "!ls ~/Colab"
      ],
      "execution_count": 0,
      "outputs": [
        {
          "output_type": "stream",
          "text": [
            " 1LayerLSTM.hdf5\t\t      Sp500Close.csv\n",
            " 1ScaleLayerLSTMEpoch380-00021.hdf5   SP500CloseLong.csv\n",
            " 1ScaleLayerLSTMEpoch380.hdf5\t      Sp500Complete63.csv\n",
            " 1ScaleLayerLSTM.hdf5\t\t      TSLAClose.csv\n",
            " 2LayerLSTM.hdf5\t\t      Tweepy.ipynb\n",
            "'First LSTM NN-1Inputs.ipynb'\t      TwitterSP500Close_19.3.csv\n",
            "'First LSTM NN-2Inputs.ipynb'\t      TwitterSP500Close_28.3.csv\n",
            "'Scale First LSTM NN-1Inputs.ipynb'   TwitterSP500Close.csv\n",
            " ScaleLSTM2Inputs.ipynb\t\t     'Yahoo API.ipynb'\n",
            " SP500Close283.csv\n"
          ],
          "name": "stdout"
        }
      ]
    },
    {
      "metadata": {
        "id": "4G2WayadEL7P",
        "colab_type": "text"
      },
      "cell_type": "markdown",
      "source": [
        "# Import data"
      ]
    },
    {
      "metadata": {
        "id": "Nn3IUBPwEL7V",
        "colab_type": "code",
        "outputId": "baf8f046-5c08-4f45-f7c5-cfed30a72c2e",
        "colab": {
          "base_uri": "https://localhost:8080/",
          "height": 201
        }
      },
      "cell_type": "code",
      "source": [
        "import numpy as np\n",
        "import pandas as pd\n",
        "import matplotlib.pyplot as plt\n",
        "%matplotlib inline\n",
        "\n",
        "df = pd.read_csv(os.path.expanduser(\"~/Colab/SP500CloseLong.csv\"))\n",
        "df = df.drop(\"Unnamed: 0\", axis=1)\n",
        "df = df.iloc[::-1]\n",
        "df = df.reset_index()\n",
        "df = df.drop (\"index\", axis=1)\n",
        "df.head()"
      ],
      "execution_count": 0,
      "outputs": [
        {
          "output_type": "execute_result",
          "data": {
            "text/html": [
              "<div>\n",
              "<style scoped>\n",
              "    .dataframe tbody tr th:only-of-type {\n",
              "        vertical-align: middle;\n",
              "    }\n",
              "\n",
              "    .dataframe tbody tr th {\n",
              "        vertical-align: top;\n",
              "    }\n",
              "\n",
              "    .dataframe thead th {\n",
              "        text-align: right;\n",
              "    }\n",
              "</style>\n",
              "<table border=\"1\" class=\"dataframe\">\n",
              "  <thead>\n",
              "    <tr style=\"text-align: right;\">\n",
              "      <th></th>\n",
              "      <th>Date</th>\n",
              "      <th>Close</th>\n",
              "    </tr>\n",
              "  </thead>\n",
              "  <tbody>\n",
              "    <tr>\n",
              "      <th>0</th>\n",
              "      <td>2019-03-13</td>\n",
              "      <td>2810.919922</td>\n",
              "    </tr>\n",
              "    <tr>\n",
              "      <th>1</th>\n",
              "      <td>2019-03-12</td>\n",
              "      <td>2791.520020</td>\n",
              "    </tr>\n",
              "    <tr>\n",
              "      <th>2</th>\n",
              "      <td>2019-03-11</td>\n",
              "      <td>2783.300049</td>\n",
              "    </tr>\n",
              "    <tr>\n",
              "      <th>3</th>\n",
              "      <td>2019-03-08</td>\n",
              "      <td>2743.070068</td>\n",
              "    </tr>\n",
              "    <tr>\n",
              "      <th>4</th>\n",
              "      <td>2019-03-07</td>\n",
              "      <td>2748.929932</td>\n",
              "    </tr>\n",
              "  </tbody>\n",
              "</table>\n",
              "</div>"
            ],
            "text/plain": [
              "         Date        Close\n",
              "0  2019-03-13  2810.919922\n",
              "1  2019-03-12  2791.520020\n",
              "2  2019-03-11  2783.300049\n",
              "3  2019-03-08  2743.070068\n",
              "4  2019-03-07  2748.929932"
            ]
          },
          "metadata": {
            "tags": []
          },
          "execution_count": 8
        }
      ]
    },
    {
      "metadata": {
        "id": "kJS12n9mEL7t",
        "colab_type": "text"
      },
      "cell_type": "markdown",
      "source": [
        "# Data overview"
      ]
    },
    {
      "metadata": {
        "id": "dyX5gBA_EL7w",
        "colab_type": "code",
        "outputId": "fec62f45-82e6-41a3-ada6-ef176d6e0663",
        "colab": {
          "base_uri": "https://localhost:8080/",
          "height": 201
        }
      },
      "cell_type": "code",
      "source": [
        "import matplotlib.dates as mdates\n",
        "import matplotlib.cbook as cbook\n",
        "\n",
        "years = mdates.YearLocator()   # every year\n",
        "months = mdates.MonthLocator()  # every month\n",
        "yearsFmt = mdates.DateFormatter('%Y')\n",
        "\n",
        "fig = plt.figure(figsize=plt.figaspect(0.1))\n",
        "fig.add_axes()\n",
        "ax = fig.add_subplot(111)\n",
        "\n",
        "# format the ticks\n",
        "#ax = plt.gca()\n",
        "ax.xaxis.set_major_locator(years)\n",
        "ax.xaxis.set_major_formatter(yearsFmt)\n",
        "ax.xaxis.set_minor_locator(months)\n",
        "\n",
        "dates = np.array(df[\"Date\"]).astype(np.datetime64)\n",
        "\n",
        "\n",
        "x = dates\n",
        "y = df[\"Close\"]\n",
        "\n",
        "plt.plot(x,y)\n",
        "#ax.set(ylim = [,])\n",
        "ax.set(title = \"Stock price\",\n",
        "      ylabel = \"Stock price\",\n",
        "      xlabel = \"Date\")\n",
        "ax.legend(loc = \"best\")"
      ],
      "execution_count": 0,
      "outputs": [
        {
          "output_type": "execute_result",
          "data": {
            "text/plain": [
              "<matplotlib.legend.Legend at 0x7fa8c1f254e0>"
            ]
          },
          "metadata": {
            "tags": []
          },
          "execution_count": 9
        },
        {
          "output_type": "display_data",
          "data": {
            "image/png": "[encoded data removed]",
            "text/plain": [
              "<Figure size 1152x144 with 1 Axes>"
            ]
          },
          "metadata": {
            "tags": []
          }
        }
      ]
    },
    {
      "metadata": {
        "id": "julstHTmEL74",
        "colab_type": "text"
      },
      "cell_type": "markdown",
      "source": [
        "# Prepare data / Normalize Data"
      ]
    },
    {
      "metadata": {
        "id": "0dCI6nMOEL8G",
        "colab_type": "code",
        "outputId": "800391a0-b162-4f41-f077-117317fd46f5",
        "colab": {
          "base_uri": "https://localhost:8080/",
          "height": 201
        }
      },
      "cell_type": "code",
      "source": [
        "df[\"Close_before\"] = df[\"Close\"].shift(-1)\n",
        "df = df.dropna()\n",
        "df.head()"
      ],
      "execution_count": 0,
      "outputs": [
        {
          "output_type": "execute_result",
          "data": {
            "text/html": [
              "<div>\n",
              "<style scoped>\n",
              "    .dataframe tbody tr th:only-of-type {\n",
              "        vertical-align: middle;\n",
              "    }\n",
              "\n",
              "    .dataframe tbody tr th {\n",
              "        vertical-align: top;\n",
              "    }\n",
              "\n",
              "    .dataframe thead th {\n",
              "        text-align: right;\n",
              "    }\n",
              "</style>\n",
              "<table border=\"1\" class=\"dataframe\">\n",
              "  <thead>\n",
              "    <tr style=\"text-align: right;\">\n",
              "      <th></th>\n",
              "      <th>Date</th>\n",
              "      <th>Close</th>\n",
              "      <th>Close_before</th>\n",
              "    </tr>\n",
              "  </thead>\n",
              "  <tbody>\n",
              "    <tr>\n",
              "      <th>0</th>\n",
              "      <td>2019-03-13</td>\n",
              "      <td>2810.919922</td>\n",
              "      <td>2791.520020</td>\n",
              "    </tr>\n",
              "    <tr>\n",
              "      <th>1</th>\n",
              "      <td>2019-03-12</td>\n",
              "      <td>2791.520020</td>\n",
              "      <td>2783.300049</td>\n",
              "    </tr>\n",
              "    <tr>\n",
              "      <th>2</th>\n",
              "      <td>2019-03-11</td>\n",
              "      <td>2783.300049</td>\n",
              "      <td>2743.070068</td>\n",
              "    </tr>\n",
              "    <tr>\n",
              "      <th>3</th>\n",
              "      <td>2019-03-08</td>\n",
              "      <td>2743.070068</td>\n",
              "      <td>2748.929932</td>\n",
              "    </tr>\n",
              "    <tr>\n",
              "      <th>4</th>\n",
              "      <td>2019-03-07</td>\n",
              "      <td>2748.929932</td>\n",
              "      <td>2771.449951</td>\n",
              "    </tr>\n",
              "  </tbody>\n",
              "</table>\n",
              "</div>"
            ],
            "text/plain": [
              "         Date        Close  Close_before\n",
              "0  2019-03-13  2810.919922   2791.520020\n",
              "1  2019-03-12  2791.520020   2783.300049\n",
              "2  2019-03-11  2783.300049   2743.070068\n",
              "3  2019-03-08  2743.070068   2748.929932\n",
              "4  2019-03-07  2748.929932   2771.449951"
            ]
          },
          "metadata": {
            "tags": []
          },
          "execution_count": 10
        }
      ]
    },
    {
      "metadata": {
        "id": "Myb5_u6fEL8Y",
        "colab_type": "code",
        "outputId": "538f7927-e89e-4a43-eb09-c4a7feea2115",
        "colab": {
          "base_uri": "https://localhost:8080/",
          "height": 411
        }
      },
      "cell_type": "code",
      "source": [
        "### Daten werden Normalisiert ###\n",
        "\n",
        "from pandas import Series\n",
        "from sklearn.preprocessing import MinMaxScaler\n",
        "\n",
        "\n",
        "\n",
        "\n",
        "#data = [10.0, 20.0, 30.0, 40.0, 50.0, 60.0, 70.0, 80.0, 90.0, 100.0]\n",
        "series = Series(df[\"Close\"])\n",
        "#print(series)\n",
        "# prepare data for normalization\n",
        "values = series.values\n",
        "values = values.reshape((len(values), 1))\n",
        "# train the normalization\n",
        "scaler = MinMaxScaler(feature_range=(0, 1))\n",
        "scaler = scaler.fit(values)\n",
        "print('Min: %f, Max: %f' % (scaler.data_min_, scaler.data_max_))\n",
        "# normalize the dataset and print\n",
        "normalized = scaler.transform(values)\n",
        "df[\"Normalized_Data\"] = normalized\n",
        "print(normalized)\n",
        "# inverse transform and print\n",
        "#inversed = scaler.inverse_transform(normalized)\n",
        "#print(inversed)\n",
        "\n",
        "closesnorm = df[\"Normalized_Data\"]\n",
        "closesnorm.plot()"
      ],
      "execution_count": 0,
      "outputs": [
        {
          "output_type": "stream",
          "text": [
            "Min: 102.419998, Max: 2930.750000\n",
            "[[0.95763221]\n",
            " [0.95077308]\n",
            " [0.94786678]\n",
            " ...\n",
            " [0.00531763]\n",
            " [0.00468828]\n",
            " [0.00442311]]\n"
          ],
          "name": "stdout"
        },
        {
          "output_type": "execute_result",
          "data": {
            "text/plain": [
              "<matplotlib.axes._subplots.AxesSubplot at 0x7fa8c0cb7a20>"
            ]
          },
          "metadata": {
            "tags": []
          },
          "execution_count": 11
        },
        {
          "output_type": "display_data",
          "data": {
            "image/png": "[encoded data removed]",
            "text/plain": [
              "<Figure size 432x288 with 1 Axes>"
            ]
          },
          "metadata": {
            "tags": []
          }
        }
      ]
    },
    {
      "metadata": {
        "id": "dkXTfUHlEL8f",
        "colab_type": "text"
      },
      "cell_type": "markdown",
      "source": [
        "# Divide into Train-/Test Data"
      ]
    },
    {
      "metadata": {
        "id": "9aZdVr7GEL8g",
        "colab_type": "code",
        "colab": {}
      },
      "cell_type": "code",
      "source": [
        "### Könnte es hier noch versuchen im LSTM Model mit mehr/weniger als den letzten 20 Tagen zu rechnen! ###\n",
        "\n",
        "X_train = []\n",
        "y_train = []\n",
        "for i in range (150, len(closesnorm) - 10):\n",
        "    y_train.append(closesnorm[i])\n",
        "    X_train.append(np.array((closesnorm[i:i+10][::-1])))\n",
        "\n",
        "X_train = np.array(X_train).reshape(-1,10,1)\n",
        "y_train = np.array(y_train)\n",
        "\n",
        "X_test = []\n",
        "y_test = []\n",
        "for i in range (0,150):\n",
        "    y_test.append(closesnorm[i])\n",
        "    X_test.append(np.array((closesnorm[i:i+10][::-1])))\n",
        "\n",
        "X_test = np.array(X_test).reshape(-1,10,1)\n",
        "y_test = np.array(y_test)"
      ],
      "execution_count": 0,
      "outputs": []
    },
    {
      "metadata": {
        "id": "DxXFf6c6EL8j",
        "colab_type": "text"
      },
      "cell_type": "markdown",
      "source": [
        "# Build model"
      ]
    },
    {
      "metadata": {
        "id": "kjYkoWPSEL8k",
        "colab_type": "code",
        "outputId": "a8322b11-10ce-4e92-e510-7f5704d14ef4",
        "colab": {
          "base_uri": "https://localhost:8080/",
          "height": 155
        }
      },
      "cell_type": "code",
      "source": [
        "from keras.layers.core import Activation, Dropout, Dense\n",
        "from keras.models import Sequential\n",
        "from keras.layers import LSTM\n",
        "from keras.layers import Dense\n",
        "from keras import regularizers\n",
        "\n",
        "model = Sequential()\n",
        "#Kernel regularizer soll angeblich besser funktionieren als Dropout layer um Overfitting zu vermeiden (da sich das Modell sonst zu sehr an Daten erinnert!\n",
        "model.add(LSTM(100,activation = \"relu\", return_sequences = True,input_shape = (10,1)))\n",
        "model.add(Dropout(0.3))\n",
        "model.add(LSTM(100,activation = \"relu\", return_sequences = False))\n",
        "model.add(Dropout(0.3))\n",
        "#model.add(LSTM(100,activation = \"relu\", return_sequences = False))\n",
        "#model.add(Dropout(0.3))\n",
        "#model.add(LSTM(1))\n",
        "#model.add(Dense(50))\n",
        "model.add(Dense(1))\n",
        "#model.add(Activation(\"linear\"))\n",
        "\n",
        "\n",
        "#model = Sequential()\n",
        "#model.add(LSTM(10, input_shape = (10, 1),return_sequences = True))\n",
        "#model.add(Dropout(0.2))\n",
        "#model.add(LSTM(1))\n",
        "#model.add(LSTM(1, input_shape = (20, 1)))\n",
        "\n",
        "model.compile(optimizer=\"adam\", loss=\"mse\")"
      ],
      "execution_count": 0,
      "outputs": [
        {
          "output_type": "stream",
          "text": [
            "WARNING:tensorflow:From /usr/local/lib/python3.6/dist-packages/tensorflow/python/framework/op_def_library.py:263: colocate_with (from tensorflow.python.framework.ops) is deprecated and will be removed in a future version.\n",
            "Instructions for updating:\n",
            "Colocations handled automatically by placer.\n",
            "WARNING:tensorflow:From /usr/local/lib/python3.6/dist-packages/keras/backend/tensorflow_backend.py:3445: calling dropout (from tensorflow.python.ops.nn_ops) with keep_prob is deprecated and will be removed in a future version.\n",
            "Instructions for updating:\n",
            "Please use `rate` instead of `keep_prob`. Rate should be set to `rate = 1 - keep_prob`.\n"
          ],
          "name": "stdout"
        }
      ]
    },
    {
      "metadata": {
        "id": "fr61_KUGEL8o",
        "colab_type": "text"
      },
      "cell_type": "markdown",
      "source": [
        "# Train model"
      ]
    },
    {
      "metadata": {
        "id": "Nu0-lx9FEL8p",
        "colab_type": "code",
        "outputId": "bcde64fd-a133-4515-d3fa-cd736851b916",
        "colab": {
          "base_uri": "https://localhost:8080/",
          "height": 12619
        }
      },
      "cell_type": "code",
      "source": [
        "model.fit(X_train, y_train, batch_size = 500, epochs = 380)"
      ],
      "execution_count": 0,
      "outputs": [
        {
          "output_type": "stream",
          "text": [
            "WARNING:tensorflow:From /usr/local/lib/python3.6/dist-packages/tensorflow/python/ops/math_ops.py:3066: to_int32 (from tensorflow.python.ops.math_ops) is deprecated and will be removed in a future version.\n",
            "Instructions for updating:\n",
            "Use tf.cast instead.\n",
            "Epoch 1/380\n",
            "9937/9937 [==============================] - 3s 258us/step - loss: 0.0577\n",
            "Epoch 2/380\n",
            "9937/9937 [==============================] - 1s 122us/step - loss: 0.0070\n",
            "Epoch 3/380\n",
            "9937/9937 [==============================] - 1s 124us/step - loss: 0.0025\n",
            "Epoch 4/380\n",
            "9937/9937 [==============================] - 1s 122us/step - loss: 0.0020\n",
            "Epoch 5/380\n",
            "9937/9937 [==============================] - 1s 121us/step - loss: 0.0020\n",
            "Epoch 6/380\n",
            "9937/9937 [==============================] - 1s 121us/step - loss: 0.0019\n",
            "Epoch 7/380\n",
            "9937/9937 [==============================] - 1s 122us/step - loss: 0.0018\n",
            "Epoch 8/380\n",
            "9937/9937 [==============================] - 1s 122us/step - loss: 0.0018\n",
            "Epoch 9/380\n",
            "9937/9937 [==============================] - 1s 125us/step - loss: 0.0017\n",
            "Epoch 10/380\n",
            "9937/9937 [==============================] - 1s 122us/step - loss: 0.0015\n",
            "Epoch 11/380\n",
            "9937/9937 [==============================] - 1s 121us/step - loss: 0.0015\n",
            "Epoch 12/380\n",
            "9937/9937 [==============================] - 1s 122us/step - loss: 0.0016\n",
            "Epoch 13/380\n",
            "9937/9937 [==============================] - 1s 122us/step - loss: 0.0014\n",
            "Epoch 14/380\n",
            "9937/9937 [==============================] - 1s 122us/step - loss: 0.0014\n",
            "Epoch 15/380\n",
            "9937/9937 [==============================] - 1s 120us/step - loss: 0.0013\n",
            "Epoch 16/380\n",
            "9937/9937 [==============================] - 1s 121us/step - loss: 0.0013\n",
            "Epoch 17/380\n",
            "9937/9937 [==============================] - 1s 121us/step - loss: 0.0013\n",
            "Epoch 18/380\n",
            "9937/9937 [==============================] - 1s 122us/step - loss: 0.0012\n",
            "Epoch 19/380\n",
            "9937/9937 [==============================] - 1s 121us/step - loss: 0.0012\n",
            "Epoch 20/380\n",
            "9937/9937 [==============================] - 1s 121us/step - loss: 0.0012\n",
            "Epoch 21/380\n",
            "9937/9937 [==============================] - 1s 120us/step - loss: 0.0011\n",
            "Epoch 22/380\n",
            "9937/9937 [==============================] - 1s 121us/step - loss: 0.0011\n",
            "Epoch 23/380\n",
            "9937/9937 [==============================] - 1s 120us/step - loss: 0.0012\n",
            "Epoch 24/380\n",
            "9937/9937 [==============================] - 1s 121us/step - loss: 0.0012\n",
            "Epoch 25/380\n",
            "9937/9937 [==============================] - 1s 120us/step - loss: 0.0012\n",
            "Epoch 26/380\n",
            "9937/9937 [==============================] - 1s 121us/step - loss: 0.0011\n",
            "Epoch 27/380\n",
            "9937/9937 [==============================] - 1s 123us/step - loss: 0.0011\n",
            "Epoch 28/380\n",
            "9937/9937 [==============================] - 1s 119us/step - loss: 0.0011\n",
            "Epoch 29/380\n",
            "9937/9937 [==============================] - 1s 120us/step - loss: 0.0011\n",
            "Epoch 30/380\n",
            "9937/9937 [==============================] - 1s 121us/step - loss: 0.0011\n",
            "Epoch 31/380\n",
            "9937/9937 [==============================] - 1s 119us/step - loss: 0.0010\n",
            "Epoch 32/380\n",
            "9937/9937 [==============================] - 1s 120us/step - loss: 0.0010\n",
            "Epoch 33/380\n",
            "9937/9937 [==============================] - 1s 120us/step - loss: 0.0011\n",
            "Epoch 34/380\n",
            "9937/9937 [==============================] - 1s 123us/step - loss: 0.0012\n",
            "Epoch 35/380\n",
            "9937/9937 [==============================] - 1s 120us/step - loss: 0.0012\n",
            "Epoch 36/380\n",
            "9937/9937 [==============================] - 1s 121us/step - loss: 0.0010\n",
            "Epoch 37/380\n",
            "9937/9937 [==============================] - 1s 120us/step - loss: 0.0010\n",
            "Epoch 38/380\n",
            "9937/9937 [==============================] - 1s 120us/step - loss: 9.8216e-04\n",
            "Epoch 39/380\n",
            "9937/9937 [==============================] - 1s 120us/step - loss: 9.7864e-04\n",
            "Epoch 40/380\n",
            "9937/9937 [==============================] - 1s 120us/step - loss: 9.6322e-04\n",
            "Epoch 41/380\n",
            "9937/9937 [==============================] - 1s 119us/step - loss: 9.4385e-04\n",
            "Epoch 42/380\n",
            "9937/9937 [==============================] - 1s 119us/step - loss: 9.7139e-04\n",
            "Epoch 43/380\n",
            "9937/9937 [==============================] - 1s 120us/step - loss: 9.8454e-04\n",
            "Epoch 44/380\n",
            "9937/9937 [==============================] - 1s 119us/step - loss: 0.0010\n",
            "Epoch 45/380\n",
            "9937/9937 [==============================] - 1s 118us/step - loss: 0.0010\n",
            "Epoch 46/380\n",
            "9937/9937 [==============================] - 1s 119us/step - loss: 0.0010\n",
            "Epoch 47/380\n",
            "9937/9937 [==============================] - 1s 121us/step - loss: 9.8638e-04\n",
            "Epoch 48/380\n",
            "9937/9937 [==============================] - 1s 119us/step - loss: 9.5387e-04\n",
            "Epoch 49/380\n",
            "9937/9937 [==============================] - 1s 119us/step - loss: 9.1175e-04\n",
            "Epoch 50/380\n",
            "9937/9937 [==============================] - 1s 121us/step - loss: 9.2491e-04\n",
            "Epoch 51/380\n",
            "9937/9937 [==============================] - 1s 120us/step - loss: 9.1759e-04\n",
            "Epoch 52/380\n",
            "9937/9937 [==============================] - 1s 120us/step - loss: 8.8581e-04\n",
            "Epoch 53/380\n",
            "9937/9937 [==============================] - 1s 120us/step - loss: 8.4238e-04\n",
            "Epoch 54/380\n",
            "9937/9937 [==============================] - 1s 120us/step - loss: 8.7854e-04\n",
            "Epoch 55/380\n",
            "9937/9937 [==============================] - 1s 120us/step - loss: 8.9617e-04\n",
            "Epoch 56/380\n",
            "9937/9937 [==============================] - 1s 120us/step - loss: 8.8221e-04\n",
            "Epoch 57/380\n",
            "9937/9937 [==============================] - 1s 119us/step - loss: 8.5542e-04\n",
            "Epoch 58/380\n",
            "9937/9937 [==============================] - 1s 119us/step - loss: 8.6363e-04\n",
            "Epoch 59/380\n",
            "9937/9937 [==============================] - 1s 121us/step - loss: 8.8517e-04\n",
            "Epoch 60/380\n",
            "9937/9937 [==============================] - 1s 120us/step - loss: 8.2417e-04\n",
            "Epoch 61/380\n",
            "9937/9937 [==============================] - 1s 120us/step - loss: 8.6076e-04\n",
            "Epoch 62/380\n",
            "9937/9937 [==============================] - 1s 120us/step - loss: 8.1365e-04\n",
            "Epoch 63/380\n",
            "9937/9937 [==============================] - 1s 120us/step - loss: 8.2707e-04\n",
            "Epoch 64/380\n",
            "9937/9937 [==============================] - 1s 120us/step - loss: 8.0172e-04\n",
            "Epoch 65/380\n",
            "9937/9937 [==============================] - 1s 122us/step - loss: 8.1569e-04\n",
            "Epoch 66/380\n",
            "9937/9937 [==============================] - 1s 119us/step - loss: 8.2099e-04\n",
            "Epoch 67/380\n",
            "9937/9937 [==============================] - 1s 120us/step - loss: 8.4986e-04\n",
            "Epoch 68/380\n",
            "9937/9937 [==============================] - 1s 120us/step - loss: 8.2677e-04\n",
            "Epoch 69/380\n",
            "9937/9937 [==============================] - 1s 119us/step - loss: 8.1577e-04\n",
            "Epoch 70/380\n",
            "9937/9937 [==============================] - 1s 120us/step - loss: 7.5226e-04\n",
            "Epoch 71/380\n",
            "9937/9937 [==============================] - 1s 121us/step - loss: 8.2230e-04\n",
            "Epoch 72/380\n",
            "9937/9937 [==============================] - 1s 122us/step - loss: 7.4861e-04\n",
            "Epoch 73/380\n",
            "9937/9937 [==============================] - 1s 119us/step - loss: 7.8437e-04\n",
            "Epoch 74/380\n",
            "9937/9937 [==============================] - 1s 121us/step - loss: 7.8063e-04\n",
            "Epoch 75/380\n",
            "9937/9937 [==============================] - 1s 121us/step - loss: 7.4839e-04\n",
            "Epoch 76/380\n",
            "9937/9937 [==============================] - 1s 121us/step - loss: 8.1600e-04\n",
            "Epoch 77/380\n",
            "9937/9937 [==============================] - 1s 122us/step - loss: 7.3484e-04\n",
            "Epoch 78/380\n",
            "9937/9937 [==============================] - 1s 120us/step - loss: 7.1211e-04\n",
            "Epoch 79/380\n",
            "9937/9937 [==============================] - 1s 120us/step - loss: 7.5204e-04\n",
            "Epoch 80/380\n",
            "9937/9937 [==============================] - 1s 122us/step - loss: 7.2806e-04\n",
            "Epoch 81/380\n",
            "9937/9937 [==============================] - 1s 121us/step - loss: 7.3282e-04\n",
            "Epoch 82/380\n",
            "9937/9937 [==============================] - 1s 120us/step - loss: 7.4992e-04\n",
            "Epoch 83/380\n",
            "9937/9937 [==============================] - 1s 119us/step - loss: 7.4372e-04\n",
            "Epoch 84/380\n",
            "9937/9937 [==============================] - 1s 120us/step - loss: 7.5127e-04\n",
            "Epoch 85/380\n",
            "9937/9937 [==============================] - 1s 119us/step - loss: 7.0310e-04\n",
            "Epoch 86/380\n",
            "9937/9937 [==============================] - 1s 120us/step - loss: 7.2824e-04\n",
            "Epoch 87/380\n",
            "9937/9937 [==============================] - 1s 120us/step - loss: 7.0548e-04\n",
            "Epoch 88/380\n",
            "9937/9937 [==============================] - 1s 119us/step - loss: 7.1190e-04\n",
            "Epoch 89/380\n",
            "9937/9937 [==============================] - 1s 121us/step - loss: 7.0297e-04\n",
            "Epoch 90/380\n",
            "9937/9937 [==============================] - 1s 122us/step - loss: 7.2185e-04\n",
            "Epoch 91/380\n",
            "9937/9937 [==============================] - 1s 119us/step - loss: 7.2863e-04\n",
            "Epoch 92/380\n",
            "9937/9937 [==============================] - 1s 120us/step - loss: 7.1045e-04\n",
            "Epoch 93/380\n",
            "9937/9937 [==============================] - 1s 121us/step - loss: 6.9367e-04\n",
            "Epoch 94/380\n",
            "9937/9937 [==============================] - 1s 122us/step - loss: 6.6887e-04\n",
            "Epoch 95/380\n",
            "9937/9937 [==============================] - 1s 120us/step - loss: 6.6705e-04\n",
            "Epoch 96/380\n",
            "9937/9937 [==============================] - 1s 119us/step - loss: 6.7124e-04\n",
            "Epoch 97/380\n",
            "9937/9937 [==============================] - 1s 121us/step - loss: 6.7913e-04\n",
            "Epoch 98/380\n",
            "9937/9937 [==============================] - 1s 120us/step - loss: 6.6575e-04\n",
            "Epoch 99/380\n",
            "9937/9937 [==============================] - 1s 119us/step - loss: 6.7605e-04\n",
            "Epoch 100/380\n",
            "9937/9937 [==============================] - 1s 121us/step - loss: 6.8227e-04\n",
            "Epoch 101/380\n",
            "9937/9937 [==============================] - 1s 121us/step - loss: 6.8931e-04\n",
            "Epoch 102/380\n",
            "9937/9937 [==============================] - 1s 122us/step - loss: 6.3095e-04\n",
            "Epoch 103/380\n",
            "9937/9937 [==============================] - 1s 121us/step - loss: 6.6508e-04\n",
            "Epoch 104/380\n",
            "9937/9937 [==============================] - 1s 120us/step - loss: 6.5026e-04\n",
            "Epoch 105/380\n",
            "9937/9937 [==============================] - 1s 122us/step - loss: 6.5388e-04\n",
            "Epoch 106/380\n",
            "9937/9937 [==============================] - 1s 120us/step - loss: 6.6558e-04\n",
            "Epoch 107/380\n",
            "9937/9937 [==============================] - 1s 118us/step - loss: 6.4990e-04\n",
            "Epoch 108/380\n",
            "9937/9937 [==============================] - 1s 121us/step - loss: 6.4320e-04\n",
            "Epoch 109/380\n",
            "9937/9937 [==============================] - 1s 124us/step - loss: 6.2286e-04\n",
            "Epoch 110/380\n",
            "9937/9937 [==============================] - 1s 122us/step - loss: 6.6074e-04\n",
            "Epoch 111/380\n",
            "9937/9937 [==============================] - 1s 121us/step - loss: 6.2218e-04\n",
            "Epoch 112/380\n",
            "9937/9937 [==============================] - 1s 120us/step - loss: 6.4461e-04\n",
            "Epoch 113/380\n",
            "9937/9937 [==============================] - 1s 119us/step - loss: 6.2747e-04\n",
            "Epoch 114/380\n",
            "9937/9937 [==============================] - 1s 120us/step - loss: 6.1189e-04\n",
            "Epoch 115/380\n",
            "9937/9937 [==============================] - 1s 120us/step - loss: 6.3284e-04\n",
            "Epoch 116/380\n",
            "9937/9937 [==============================] - 1s 120us/step - loss: 6.0437e-04\n",
            "Epoch 117/380\n",
            "9937/9937 [==============================] - 1s 120us/step - loss: 6.1072e-04\n",
            "Epoch 118/380\n",
            "9937/9937 [==============================] - 1s 119us/step - loss: 6.1214e-04\n",
            "Epoch 119/380\n",
            "9937/9937 [==============================] - 1s 121us/step - loss: 6.0750e-04\n",
            "Epoch 120/380\n",
            "9937/9937 [==============================] - 1s 121us/step - loss: 6.0086e-04\n",
            "Epoch 121/380\n",
            "9937/9937 [==============================] - 1s 119us/step - loss: 6.1377e-04\n",
            "Epoch 122/380\n",
            "9937/9937 [==============================] - 1s 122us/step - loss: 6.0593e-04\n",
            "Epoch 123/380\n",
            "9937/9937 [==============================] - 1s 120us/step - loss: 6.2641e-04\n",
            "Epoch 124/380\n",
            "9937/9937 [==============================] - 1s 119us/step - loss: 6.0995e-04\n",
            "Epoch 125/380\n",
            "9937/9937 [==============================] - 1s 121us/step - loss: 6.1591e-04\n",
            "Epoch 126/380\n",
            "9937/9937 [==============================] - 1s 119us/step - loss: 5.9123e-04\n",
            "Epoch 127/380\n",
            "9937/9937 [==============================] - 1s 121us/step - loss: 6.1896e-04\n",
            "Epoch 128/380\n",
            "9937/9937 [==============================] - 1s 121us/step - loss: 5.9887e-04\n",
            "Epoch 129/380\n",
            "9937/9937 [==============================] - 1s 119us/step - loss: 5.9578e-04\n",
            "Epoch 130/380\n",
            "9937/9937 [==============================] - 1s 120us/step - loss: 6.1410e-04\n",
            "Epoch 131/380\n",
            "9937/9937 [==============================] - 1s 122us/step - loss: 6.0722e-04\n",
            "Epoch 132/380\n",
            "9937/9937 [==============================] - 1s 119us/step - loss: 6.0414e-04\n",
            "Epoch 133/380\n",
            "9937/9937 [==============================] - 1s 119us/step - loss: 5.6721e-04\n",
            "Epoch 134/380\n",
            "9937/9937 [==============================] - 1s 122us/step - loss: 5.6933e-04\n",
            "Epoch 135/380\n",
            "9937/9937 [==============================] - 1s 120us/step - loss: 5.7438e-04\n",
            "Epoch 136/380\n",
            "9937/9937 [==============================] - 1s 120us/step - loss: 5.9881e-04\n",
            "Epoch 137/380\n",
            "9937/9937 [==============================] - 1s 119us/step - loss: 6.0861e-04\n",
            "Epoch 138/380\n",
            "9937/9937 [==============================] - 1s 120us/step - loss: 5.9414e-04\n",
            "Epoch 139/380\n",
            "9937/9937 [==============================] - 1s 121us/step - loss: 5.7812e-04\n",
            "Epoch 140/380\n",
            "9937/9937 [==============================] - 1s 120us/step - loss: 5.9518e-04\n",
            "Epoch 141/380\n",
            "9937/9937 [==============================] - 1s 120us/step - loss: 5.9384e-04\n",
            "Epoch 142/380\n",
            "9937/9937 [==============================] - 1s 119us/step - loss: 5.8704e-04\n",
            "Epoch 143/380\n",
            "9937/9937 [==============================] - 1s 119us/step - loss: 5.8764e-04\n",
            "Epoch 144/380\n",
            "9937/9937 [==============================] - 1s 121us/step - loss: 5.8321e-04\n",
            "Epoch 145/380\n",
            "9937/9937 [==============================] - 1s 121us/step - loss: 5.6660e-04\n",
            "Epoch 146/380\n",
            "9937/9937 [==============================] - 1s 119us/step - loss: 5.7881e-04\n",
            "Epoch 147/380\n",
            "9937/9937 [==============================] - 1s 120us/step - loss: 5.8140e-04\n",
            "Epoch 148/380\n",
            "9937/9937 [==============================] - 1s 118us/step - loss: 5.7042e-04\n",
            "Epoch 149/380\n",
            "9937/9937 [==============================] - 1s 120us/step - loss: 5.8612e-04\n",
            "Epoch 150/380\n",
            "9937/9937 [==============================] - 1s 119us/step - loss: 5.3667e-04\n",
            "Epoch 151/380\n",
            "9937/9937 [==============================] - 1s 120us/step - loss: 5.7478e-04\n",
            "Epoch 152/380\n",
            "9937/9937 [==============================] - 1s 121us/step - loss: 5.7658e-04\n",
            "Epoch 153/380\n",
            "9937/9937 [==============================] - 1s 120us/step - loss: 5.7697e-04\n",
            "Epoch 154/380\n",
            "9937/9937 [==============================] - 1s 121us/step - loss: 5.7157e-04\n",
            "Epoch 155/380\n",
            "9937/9937 [==============================] - 1s 121us/step - loss: 5.9506e-04\n",
            "Epoch 156/380\n",
            "9937/9937 [==============================] - 1s 120us/step - loss: 5.6278e-04\n",
            "Epoch 157/380\n",
            "9937/9937 [==============================] - 1s 118us/step - loss: 5.5750e-04\n",
            "Epoch 158/380\n",
            "9937/9937 [==============================] - 1s 121us/step - loss: 5.5237e-04\n",
            "Epoch 159/380\n",
            "9937/9937 [==============================] - 1s 120us/step - loss: 5.6458e-04\n",
            "Epoch 160/380\n",
            "9937/9937 [==============================] - 1s 120us/step - loss: 5.7602e-04\n",
            "Epoch 161/380\n",
            "9937/9937 [==============================] - 1s 122us/step - loss: 5.6338e-04\n",
            "Epoch 162/380\n",
            "9937/9937 [==============================] - 1s 122us/step - loss: 5.7705e-04\n",
            "Epoch 163/380\n",
            "9937/9937 [==============================] - 1s 121us/step - loss: 5.5090e-04\n",
            "Epoch 164/380\n",
            "9937/9937 [==============================] - 1s 120us/step - loss: 5.7761e-04\n",
            "Epoch 165/380\n",
            "9937/9937 [==============================] - 1s 118us/step - loss: 5.6729e-04\n",
            "Epoch 166/380\n",
            "9937/9937 [==============================] - 1s 119us/step - loss: 5.9351e-04\n",
            "Epoch 167/380\n",
            "9937/9937 [==============================] - 1s 118us/step - loss: 6.0302e-04\n",
            "Epoch 168/380\n",
            "9937/9937 [==============================] - 1s 119us/step - loss: 5.5072e-04\n",
            "Epoch 169/380\n",
            "9937/9937 [==============================] - 1s 118us/step - loss: 5.5450e-04\n",
            "Epoch 170/380\n",
            "9937/9937 [==============================] - 1s 118us/step - loss: 5.7140e-04\n",
            "Epoch 171/380\n",
            "9937/9937 [==============================] - 1s 118us/step - loss: 5.3744e-04\n",
            "Epoch 172/380\n",
            "9937/9937 [==============================] - 1s 120us/step - loss: 5.9771e-04\n",
            "Epoch 173/380\n",
            "9937/9937 [==============================] - 1s 120us/step - loss: 5.4528e-04\n",
            "Epoch 174/380\n",
            "9937/9937 [==============================] - 1s 120us/step - loss: 5.3667e-04\n",
            "Epoch 175/380\n",
            "9937/9937 [==============================] - 1s 120us/step - loss: 5.4978e-04\n",
            "Epoch 176/380\n",
            "9937/9937 [==============================] - 1s 119us/step - loss: 5.4599e-04\n",
            "Epoch 177/380\n",
            "9937/9937 [==============================] - 1s 120us/step - loss: 5.5498e-04\n",
            "Epoch 178/380\n",
            "9937/9937 [==============================] - 1s 120us/step - loss: 5.6094e-04\n",
            "Epoch 179/380\n",
            "9937/9937 [==============================] - 1s 119us/step - loss: 5.4913e-04\n",
            "Epoch 180/380\n",
            "9937/9937 [==============================] - 1s 121us/step - loss: 5.7714e-04\n",
            "Epoch 181/380\n",
            "9937/9937 [==============================] - 1s 120us/step - loss: 5.4845e-04\n",
            "Epoch 182/380\n",
            "9937/9937 [==============================] - 1s 120us/step - loss: 5.7824e-04\n",
            "Epoch 183/380\n",
            "9937/9937 [==============================] - 1s 120us/step - loss: 5.9233e-04\n",
            "Epoch 184/380\n",
            "9937/9937 [==============================] - 1s 120us/step - loss: 5.6814e-04\n",
            "Epoch 185/380\n",
            "9937/9937 [==============================] - 1s 120us/step - loss: 5.5779e-04\n",
            "Epoch 186/380\n",
            "9937/9937 [==============================] - 1s 121us/step - loss: 5.5988e-04\n",
            "Epoch 187/380\n",
            "9937/9937 [==============================] - 1s 119us/step - loss: 5.4705e-04\n",
            "Epoch 188/380\n",
            "9937/9937 [==============================] - 1s 119us/step - loss: 5.5631e-04\n",
            "Epoch 189/380\n",
            "9937/9937 [==============================] - 1s 119us/step - loss: 5.6490e-04\n",
            "Epoch 190/380\n",
            "9937/9937 [==============================] - 1s 119us/step - loss: 5.5001e-04\n",
            "Epoch 191/380\n",
            "9937/9937 [==============================] - 1s 120us/step - loss: 5.4740e-04\n",
            "Epoch 192/380\n",
            "9937/9937 [==============================] - 1s 120us/step - loss: 5.3590e-04\n",
            "Epoch 193/380\n",
            "9937/9937 [==============================] - 1s 121us/step - loss: 5.4689e-04\n",
            "Epoch 194/380\n",
            "9937/9937 [==============================] - 1s 120us/step - loss: 5.8357e-04\n",
            "Epoch 195/380\n",
            "9937/9937 [==============================] - 1s 122us/step - loss: 5.5165e-04\n",
            "Epoch 196/380\n",
            "9937/9937 [==============================] - 1s 121us/step - loss: 5.8631e-04\n",
            "Epoch 197/380\n",
            "9937/9937 [==============================] - 1s 120us/step - loss: 5.7230e-04\n",
            "Epoch 198/380\n",
            "9937/9937 [==============================] - 1s 121us/step - loss: 5.6870e-04\n",
            "Epoch 199/380\n",
            "9937/9937 [==============================] - 1s 121us/step - loss: 5.5335e-04\n",
            "Epoch 200/380\n",
            "9937/9937 [==============================] - 1s 119us/step - loss: 5.3903e-04\n",
            "Epoch 201/380\n",
            "9937/9937 [==============================] - 1s 120us/step - loss: 5.5212e-04\n",
            "Epoch 202/380\n",
            "9937/9937 [==============================] - 1s 122us/step - loss: 5.5680e-04\n",
            "Epoch 203/380\n",
            "9937/9937 [==============================] - 1s 122us/step - loss: 5.5432e-04\n",
            "Epoch 204/380\n",
            "9937/9937 [==============================] - 1s 120us/step - loss: 5.6089e-04\n",
            "Epoch 205/380\n",
            "9937/9937 [==============================] - 1s 123us/step - loss: 5.5941e-04\n",
            "Epoch 206/380\n",
            "9937/9937 [==============================] - 1s 121us/step - loss: 5.3929e-04\n",
            "Epoch 207/380\n",
            "9937/9937 [==============================] - 1s 120us/step - loss: 5.2580e-04\n",
            "Epoch 208/380\n",
            "9937/9937 [==============================] - 1s 120us/step - loss: 5.3590e-04\n",
            "Epoch 209/380\n",
            "9937/9937 [==============================] - 1s 120us/step - loss: 5.3677e-04\n",
            "Epoch 210/380\n",
            "9937/9937 [==============================] - 1s 120us/step - loss: 5.7603e-04\n",
            "Epoch 211/380\n",
            "9937/9937 [==============================] - 1s 122us/step - loss: 5.8114e-04\n",
            "Epoch 212/380\n",
            "9937/9937 [==============================] - 1s 121us/step - loss: 5.6381e-04\n",
            "Epoch 213/380\n",
            "9937/9937 [==============================] - 1s 121us/step - loss: 5.5246e-04\n",
            "Epoch 214/380\n",
            "9937/9937 [==============================] - 1s 121us/step - loss: 5.2680e-04\n",
            "Epoch 215/380\n",
            "9937/9937 [==============================] - 1s 119us/step - loss: 5.6199e-04\n",
            "Epoch 216/380\n",
            "9937/9937 [==============================] - 1s 121us/step - loss: 5.6751e-04\n",
            "Epoch 217/380\n",
            "9937/9937 [==============================] - 1s 122us/step - loss: 5.2228e-04\n",
            "Epoch 218/380\n",
            "9937/9937 [==============================] - 1s 121us/step - loss: 5.3726e-04\n",
            "Epoch 219/380\n",
            "9937/9937 [==============================] - 1s 121us/step - loss: 5.4234e-04\n",
            "Epoch 220/380\n",
            "9937/9937 [==============================] - 1s 119us/step - loss: 5.3316e-04\n",
            "Epoch 221/380\n",
            "9937/9937 [==============================] - 1s 120us/step - loss: 5.4285e-04\n",
            "Epoch 222/380\n",
            "9937/9937 [==============================] - 1s 119us/step - loss: 5.2700e-04\n",
            "Epoch 223/380\n",
            "9937/9937 [==============================] - 1s 121us/step - loss: 5.4714e-04\n",
            "Epoch 224/380\n",
            "9937/9937 [==============================] - 1s 124us/step - loss: 5.5741e-04\n",
            "Epoch 225/380\n",
            "9937/9937 [==============================] - 1s 119us/step - loss: 5.6454e-04\n",
            "Epoch 226/380\n",
            "9937/9937 [==============================] - 1s 121us/step - loss: 5.4555e-04\n",
            "Epoch 227/380\n",
            "9937/9937 [==============================] - 1s 121us/step - loss: 5.6461e-04\n",
            "Epoch 228/380\n",
            "9937/9937 [==============================] - 1s 119us/step - loss: 5.6338e-04\n",
            "Epoch 229/380\n",
            "9937/9937 [==============================] - 1s 119us/step - loss: 5.5369e-04\n",
            "Epoch 230/380\n",
            "9937/9937 [==============================] - 1s 123us/step - loss: 5.5934e-04\n",
            "Epoch 231/380\n",
            "9937/9937 [==============================] - 1s 122us/step - loss: 5.6442e-04\n",
            "Epoch 232/380\n",
            "9937/9937 [==============================] - 1s 122us/step - loss: 5.6933e-04\n",
            "Epoch 233/380\n",
            "9937/9937 [==============================] - 1s 121us/step - loss: 5.5661e-04\n",
            "Epoch 234/380\n",
            "9937/9937 [==============================] - 1s 122us/step - loss: 5.5500e-04\n",
            "Epoch 235/380\n",
            "9937/9937 [==============================] - 1s 123us/step - loss: 5.2017e-04\n",
            "Epoch 236/380\n",
            "9937/9937 [==============================] - 1s 123us/step - loss: 5.7359e-04\n",
            "Epoch 237/380\n",
            "9937/9937 [==============================] - 1s 121us/step - loss: 5.4079e-04\n",
            "Epoch 238/380\n",
            "9937/9937 [==============================] - 1s 119us/step - loss: 5.3686e-04\n",
            "Epoch 239/380\n",
            "9937/9937 [==============================] - 1s 120us/step - loss: 5.4620e-04\n",
            "Epoch 240/380\n",
            "9937/9937 [==============================] - 1s 120us/step - loss: 5.5641e-04\n",
            "Epoch 241/380\n",
            "9937/9937 [==============================] - 1s 120us/step - loss: 5.4085e-04\n",
            "Epoch 242/380\n",
            "9937/9937 [==============================] - 1s 122us/step - loss: 5.4935e-04\n",
            "Epoch 243/380\n",
            "9937/9937 [==============================] - 1s 119us/step - loss: 5.4049e-04\n",
            "Epoch 244/380\n",
            "9937/9937 [==============================] - 1s 121us/step - loss: 5.3984e-04\n",
            "Epoch 245/380\n",
            "9937/9937 [==============================] - 1s 121us/step - loss: 5.8337e-04\n",
            "Epoch 246/380\n",
            "9937/9937 [==============================] - 1s 121us/step - loss: 5.3355e-04\n",
            "Epoch 247/380\n",
            "9937/9937 [==============================] - 1s 121us/step - loss: 5.6036e-04\n",
            "Epoch 248/380\n",
            "9937/9937 [==============================] - 1s 120us/step - loss: 5.8264e-04\n",
            "Epoch 249/380\n",
            "9937/9937 [==============================] - 1s 120us/step - loss: 5.3274e-04\n",
            "Epoch 250/380\n",
            "9937/9937 [==============================] - 1s 119us/step - loss: 5.6602e-04\n",
            "Epoch 251/380\n",
            "9937/9937 [==============================] - 1s 120us/step - loss: 5.2764e-04\n",
            "Epoch 252/380\n",
            "9937/9937 [==============================] - 1s 120us/step - loss: 5.6391e-04\n",
            "Epoch 253/380\n",
            "9937/9937 [==============================] - 1s 122us/step - loss: 5.6812e-04\n",
            "Epoch 254/380\n",
            "9937/9937 [==============================] - 1s 121us/step - loss: 5.4925e-04\n",
            "Epoch 255/380\n",
            "9937/9937 [==============================] - 1s 121us/step - loss: 5.5629e-04\n",
            "Epoch 256/380\n",
            "9937/9937 [==============================] - 1s 121us/step - loss: 5.4340e-04\n",
            "Epoch 257/380\n",
            "9937/9937 [==============================] - 1s 120us/step - loss: 5.7167e-04\n",
            "Epoch 258/380\n",
            "9937/9937 [==============================] - 1s 119us/step - loss: 5.4162e-04\n",
            "Epoch 259/380\n",
            "9937/9937 [==============================] - 1s 120us/step - loss: 5.5110e-04\n",
            "Epoch 260/380\n",
            "9937/9937 [==============================] - 1s 120us/step - loss: 5.5699e-04\n",
            "Epoch 261/380\n",
            "9937/9937 [==============================] - 1s 121us/step - loss: 5.4772e-04\n",
            "Epoch 262/380\n",
            "9937/9937 [==============================] - 1s 121us/step - loss: 5.5156e-04\n",
            "Epoch 263/380\n",
            "9937/9937 [==============================] - 1s 120us/step - loss: 5.6960e-04\n",
            "Epoch 264/380\n",
            "9937/9937 [==============================] - 1s 119us/step - loss: 5.5917e-04\n",
            "Epoch 265/380\n",
            "9937/9937 [==============================] - 1s 121us/step - loss: 5.3834e-04\n",
            "Epoch 266/380\n",
            "9937/9937 [==============================] - 1s 121us/step - loss: 5.3021e-04\n",
            "Epoch 267/380\n",
            "9937/9937 [==============================] - 1s 120us/step - loss: 5.2889e-04\n",
            "Epoch 268/380\n",
            "9937/9937 [==============================] - 1s 120us/step - loss: 5.3347e-04\n",
            "Epoch 269/380\n",
            "9937/9937 [==============================] - 1s 121us/step - loss: 5.0430e-04\n",
            "Epoch 270/380\n",
            "9937/9937 [==============================] - 1s 120us/step - loss: 5.2335e-04\n",
            "Epoch 271/380\n",
            "9937/9937 [==============================] - 1s 119us/step - loss: 5.2295e-04\n",
            "Epoch 272/380\n",
            "9937/9937 [==============================] - 1s 119us/step - loss: 5.4372e-04\n",
            "Epoch 273/380\n",
            "9937/9937 [==============================] - 1s 119us/step - loss: 5.3453e-04\n",
            "Epoch 274/380\n",
            "9937/9937 [==============================] - 1s 122us/step - loss: 5.4417e-04\n",
            "Epoch 275/380\n",
            "9937/9937 [==============================] - 1s 120us/step - loss: 5.5906e-04\n",
            "Epoch 276/380\n",
            "9937/9937 [==============================] - 1s 119us/step - loss: 5.4389e-04\n",
            "Epoch 277/380\n",
            "9937/9937 [==============================] - 1s 121us/step - loss: 5.3060e-04\n",
            "Epoch 278/380\n",
            "9937/9937 [==============================] - 1s 119us/step - loss: 5.4612e-04\n",
            "Epoch 279/380\n",
            "9937/9937 [==============================] - 1s 121us/step - loss: 5.5276e-04\n",
            "Epoch 280/380\n",
            "9937/9937 [==============================] - 1s 121us/step - loss: 5.3572e-04\n",
            "Epoch 281/380\n",
            "9937/9937 [==============================] - 1s 121us/step - loss: 5.3559e-04\n",
            "Epoch 282/380\n",
            "9937/9937 [==============================] - 1s 120us/step - loss: 5.2018e-04\n",
            "Epoch 283/380\n",
            "9937/9937 [==============================] - 1s 121us/step - loss: 5.5297e-04\n",
            "Epoch 284/380\n",
            "9937/9937 [==============================] - 1s 120us/step - loss: 5.7294e-04\n",
            "Epoch 285/380\n",
            "9937/9937 [==============================] - 1s 119us/step - loss: 5.7472e-04\n",
            "Epoch 286/380\n",
            "9937/9937 [==============================] - 1s 122us/step - loss: 5.3972e-04\n",
            "Epoch 287/380\n",
            "9937/9937 [==============================] - 1s 120us/step - loss: 5.6050e-04\n",
            "Epoch 288/380\n",
            "9937/9937 [==============================] - 1s 119us/step - loss: 5.2868e-04\n",
            "Epoch 289/380\n",
            "9937/9937 [==============================] - 1s 121us/step - loss: 5.4985e-04\n",
            "Epoch 290/380\n",
            "9937/9937 [==============================] - 1s 120us/step - loss: 5.8159e-04\n",
            "Epoch 291/380\n",
            "9937/9937 [==============================] - 1s 119us/step - loss: 5.4063e-04\n",
            "Epoch 292/380\n",
            "9937/9937 [==============================] - 1s 120us/step - loss: 5.6199e-04\n",
            "Epoch 293/380\n",
            "9937/9937 [==============================] - 1s 120us/step - loss: 5.8929e-04\n",
            "Epoch 294/380\n",
            "9937/9937 [==============================] - 1s 121us/step - loss: 5.3771e-04\n",
            "Epoch 295/380\n",
            "9937/9937 [==============================] - 1s 120us/step - loss: 5.1416e-04\n",
            "Epoch 296/380\n",
            "9937/9937 [==============================] - 1s 120us/step - loss: 5.4031e-04\n",
            "Epoch 297/380\n",
            "9937/9937 [==============================] - 1s 121us/step - loss: 5.4136e-04\n",
            "Epoch 298/380\n",
            "9937/9937 [==============================] - 1s 121us/step - loss: 5.2118e-04\n",
            "Epoch 299/380\n",
            "9937/9937 [==============================] - 1s 119us/step - loss: 5.2967e-04\n",
            "Epoch 300/380\n",
            "9937/9937 [==============================] - 1s 121us/step - loss: 5.4788e-04\n",
            "Epoch 301/380\n",
            "9937/9937 [==============================] - 1s 121us/step - loss: 5.3643e-04\n",
            "Epoch 302/380\n",
            "9937/9937 [==============================] - 1s 118us/step - loss: 5.2158e-04\n",
            "Epoch 303/380\n",
            "9937/9937 [==============================] - 1s 120us/step - loss: 5.2701e-04\n",
            "Epoch 304/380\n",
            "9937/9937 [==============================] - 1s 122us/step - loss: 5.3903e-04\n",
            "Epoch 305/380\n",
            "9937/9937 [==============================] - 1s 120us/step - loss: 5.5090e-04\n",
            "Epoch 306/380\n",
            "9937/9937 [==============================] - 1s 121us/step - loss: 5.6992e-04\n",
            "Epoch 307/380\n",
            "9937/9937 [==============================] - 1s 122us/step - loss: 5.4572e-04\n",
            "Epoch 308/380\n",
            "9937/9937 [==============================] - 1s 120us/step - loss: 5.3969e-04\n",
            "Epoch 309/380\n",
            "9937/9937 [==============================] - 1s 119us/step - loss: 5.6192e-04\n",
            "Epoch 310/380\n",
            "9937/9937 [==============================] - 1s 119us/step - loss: 5.6047e-04\n",
            "Epoch 311/380\n",
            "9937/9937 [==============================] - 1s 121us/step - loss: 5.2986e-04\n",
            "Epoch 312/380\n",
            "9937/9937 [==============================] - 1s 123us/step - loss: 5.3709e-04\n",
            "Epoch 313/380\n",
            "9937/9937 [==============================] - 1s 118us/step - loss: 5.3657e-04\n",
            "Epoch 314/380\n",
            "9937/9937 [==============================] - 1s 121us/step - loss: 5.2963e-04\n",
            "Epoch 315/380\n",
            "9937/9937 [==============================] - 1s 119us/step - loss: 5.6541e-04\n",
            "Epoch 316/380\n",
            "9937/9937 [==============================] - 1s 120us/step - loss: 5.4659e-04\n",
            "Epoch 317/380\n",
            "9937/9937 [==============================] - 1s 120us/step - loss: 5.3604e-04\n",
            "Epoch 318/380\n",
            "9937/9937 [==============================] - 1s 121us/step - loss: 5.3528e-04\n",
            "Epoch 319/380\n",
            "9937/9937 [==============================] - 1s 120us/step - loss: 5.3062e-04\n",
            "Epoch 320/380\n",
            "9937/9937 [==============================] - 1s 119us/step - loss: 5.1397e-04\n",
            "Epoch 321/380\n",
            "9937/9937 [==============================] - 1s 119us/step - loss: 5.3077e-04\n",
            "Epoch 322/380\n",
            "9937/9937 [==============================] - 1s 120us/step - loss: 5.3773e-04\n",
            "Epoch 323/380\n",
            "9937/9937 [==============================] - 1s 123us/step - loss: 5.3748e-04\n",
            "Epoch 324/380\n",
            "9937/9937 [==============================] - 1s 120us/step - loss: 5.6790e-04\n",
            "Epoch 325/380\n",
            "9937/9937 [==============================] - 1s 121us/step - loss: 5.3023e-04\n",
            "Epoch 326/380\n",
            "9937/9937 [==============================] - 1s 121us/step - loss: 5.2529e-04\n",
            "Epoch 327/380\n",
            "9937/9937 [==============================] - 1s 120us/step - loss: 5.4051e-04\n",
            "Epoch 328/380\n",
            "9937/9937 [==============================] - 1s 121us/step - loss: 5.3659e-04\n",
            "Epoch 329/380\n",
            "9937/9937 [==============================] - 1s 120us/step - loss: 5.6268e-04\n",
            "Epoch 330/380\n",
            "9937/9937 [==============================] - 1s 122us/step - loss: 5.6180e-04\n",
            "Epoch 331/380\n",
            "9937/9937 [==============================] - 1s 125us/step - loss: 5.6972e-04\n",
            "Epoch 332/380\n",
            "9937/9937 [==============================] - 1s 122us/step - loss: 5.4698e-04\n",
            "Epoch 333/380\n",
            "9937/9937 [==============================] - 1s 121us/step - loss: 5.2745e-04\n",
            "Epoch 334/380\n",
            "9937/9937 [==============================] - 1s 120us/step - loss: 5.3769e-04\n",
            "Epoch 335/380\n",
            "9937/9937 [==============================] - 1s 119us/step - loss: 5.0765e-04\n",
            "Epoch 336/380\n",
            "9937/9937 [==============================] - 1s 120us/step - loss: 5.3731e-04\n",
            "Epoch 337/380\n",
            "9937/9937 [==============================] - 1s 121us/step - loss: 5.4416e-04\n",
            "Epoch 338/380\n",
            "9937/9937 [==============================] - 1s 119us/step - loss: 5.3052e-04\n",
            "Epoch 339/380\n",
            "9937/9937 [==============================] - 1s 120us/step - loss: 5.2629e-04\n",
            "Epoch 340/380\n",
            "9937/9937 [==============================] - 1s 121us/step - loss: 5.2071e-04\n",
            "Epoch 341/380\n",
            "9937/9937 [==============================] - 1s 120us/step - loss: 5.2532e-04\n",
            "Epoch 342/380\n",
            "9937/9937 [==============================] - 1s 121us/step - loss: 5.5104e-04\n",
            "Epoch 343/380\n",
            "9937/9937 [==============================] - 1s 122us/step - loss: 5.3625e-04\n",
            "Epoch 344/380\n",
            "9937/9937 [==============================] - 1s 121us/step - loss: 5.1876e-04\n",
            "Epoch 345/380\n",
            "9937/9937 [==============================] - 1s 121us/step - loss: 5.6174e-04\n",
            "Epoch 346/380\n",
            "9937/9937 [==============================] - 1s 119us/step - loss: 5.5015e-04\n",
            "Epoch 347/380\n",
            "9937/9937 [==============================] - 1s 119us/step - loss: 5.4036e-04\n",
            "Epoch 348/380\n",
            "9937/9937 [==============================] - 1s 121us/step - loss: 5.3349e-04\n",
            "Epoch 349/380\n",
            "9937/9937 [==============================] - 1s 120us/step - loss: 5.3313e-04\n",
            "Epoch 350/380\n",
            "9937/9937 [==============================] - 1s 121us/step - loss: 5.2108e-04\n",
            "Epoch 351/380\n",
            "9937/9937 [==============================] - 1s 121us/step - loss: 5.4650e-04\n",
            "Epoch 352/380\n",
            "9937/9937 [==============================] - 1s 119us/step - loss: 5.5530e-04\n",
            "Epoch 353/380\n",
            "9937/9937 [==============================] - 1s 121us/step - loss: 5.3712e-04\n",
            "Epoch 354/380\n",
            "9937/9937 [==============================] - 1s 121us/step - loss: 5.4026e-04\n",
            "Epoch 355/380\n",
            "9937/9937 [==============================] - 1s 122us/step - loss: 5.2566e-04\n",
            "Epoch 356/380\n",
            "9937/9937 [==============================] - 1s 120us/step - loss: 5.2073e-04\n",
            "Epoch 357/380\n",
            "9937/9937 [==============================] - 1s 121us/step - loss: 5.5148e-04\n",
            "Epoch 358/380\n",
            "9937/9937 [==============================] - 1s 119us/step - loss: 5.1382e-04\n",
            "Epoch 359/380\n",
            "9937/9937 [==============================] - 1s 120us/step - loss: 5.5568e-04\n",
            "Epoch 360/380\n",
            "9937/9937 [==============================] - 1s 121us/step - loss: 5.4381e-04\n",
            "Epoch 361/380\n",
            "9937/9937 [==============================] - 1s 120us/step - loss: 5.0949e-04\n",
            "Epoch 362/380\n",
            "9937/9937 [==============================] - 1s 120us/step - loss: 5.1411e-04\n",
            "Epoch 363/380\n",
            "9937/9937 [==============================] - 1s 120us/step - loss: 5.6038e-04\n",
            "Epoch 364/380\n",
            "9937/9937 [==============================] - 1s 120us/step - loss: 5.4627e-04\n",
            "Epoch 365/380\n",
            "9937/9937 [==============================] - 1s 120us/step - loss: 5.4068e-04\n",
            "Epoch 366/380\n",
            "9937/9937 [==============================] - 1s 121us/step - loss: 5.5618e-04\n",
            "Epoch 367/380\n",
            "9937/9937 [==============================] - 1s 119us/step - loss: 5.2740e-04\n",
            "Epoch 368/380\n",
            "9937/9937 [==============================] - 1s 120us/step - loss: 5.4246e-04\n",
            "Epoch 369/380\n",
            "9937/9937 [==============================] - 1s 120us/step - loss: 5.2389e-04\n",
            "Epoch 370/380\n",
            "9937/9937 [==============================] - 1s 120us/step - loss: 5.3214e-04\n",
            "Epoch 371/380\n",
            "9937/9937 [==============================] - 1s 120us/step - loss: 5.4832e-04\n",
            "Epoch 372/380\n",
            "9937/9937 [==============================] - 1s 120us/step - loss: 5.4758e-04\n",
            "Epoch 373/380\n",
            "9937/9937 [==============================] - 1s 120us/step - loss: 5.3231e-04\n",
            "Epoch 374/380\n",
            "9937/9937 [==============================] - 1s 120us/step - loss: 5.4331e-04\n",
            "Epoch 375/380\n",
            "9937/9937 [==============================] - 1s 119us/step - loss: 5.0872e-04\n",
            "Epoch 376/380\n",
            "9937/9937 [==============================] - 1s 119us/step - loss: 5.3560e-04\n",
            "Epoch 377/380\n",
            "9937/9937 [==============================] - 1s 120us/step - loss: 5.1782e-04\n",
            "Epoch 378/380\n",
            "9937/9937 [==============================] - 1s 121us/step - loss: 5.3123e-04\n",
            "Epoch 379/380\n",
            "9937/9937 [==============================] - 1s 120us/step - loss: 5.2403e-04\n",
            "Epoch 380/380\n",
            "9937/9937 [==============================] - 1s 119us/step - loss: 5.3816e-04\n"
          ],
          "name": "stdout"
        },
        {
          "output_type": "execute_result",
          "data": {
            "text/plain": [
              "<keras.callbacks.History at 0x7fa8c0446ba8>"
            ]
          },
          "metadata": {
            "tags": []
          },
          "execution_count": 14
        }
      ]
    },
    {
      "metadata": {
        "id": "jtDNFcQwQ49u",
        "colab_type": "text"
      },
      "cell_type": "markdown",
      "source": [
        "# Load Model if needed"
      ]
    },
    {
      "metadata": {
        "id": "qMEXje8zQ3F_",
        "colab_type": "code",
        "colab": {}
      },
      "cell_type": "code",
      "source": [
        "#from keras.models import load_model\n",
        "#model = load_model('1ScaleLayerLSTMEpoch380-00021.hdf5')"
      ],
      "execution_count": 0,
      "outputs": []
    },
    {
      "metadata": {
        "id": "XO2IBqXSEL8v",
        "colab_type": "text"
      },
      "cell_type": "markdown",
      "source": [
        "# Evaluate predictions + use"
      ]
    },
    {
      "metadata": {
        "id": "aCM7dKlSEL8w",
        "colab_type": "code",
        "outputId": "92045f22-c56b-4002-dd53-c31a8975bb71",
        "colab": {
          "base_uri": "https://localhost:8080/",
          "height": 49
        }
      },
      "cell_type": "code",
      "source": [
        "model.evaluate(X_test,y_test)"
      ],
      "execution_count": 0,
      "outputs": [
        {
          "output_type": "stream",
          "text": [
            "150/150 [==============================] - 0s 2ms/step\n"
          ],
          "name": "stdout"
        },
        {
          "output_type": "execute_result",
          "data": {
            "text/plain": [
              "0.0008080371624479691"
            ]
          },
          "metadata": {
            "tags": []
          },
          "execution_count": 16
        }
      ]
    },
    {
      "metadata": {
        "id": "bl_tACyASX79",
        "colab_type": "code",
        "outputId": "ea112aad-cb3c-49bf-9c4c-8f5a3d8cd341",
        "colab": {
          "base_uri": "https://localhost:8080/",
          "height": 131
        }
      },
      "cell_type": "code",
      "source": [
        "model.predict(X_train)"
      ],
      "execution_count": 0,
      "outputs": [
        {
          "output_type": "execute_result",
          "data": {
            "text/plain": [
              "array([[0.93619   ],\n",
              "       [0.9364759 ],\n",
              "       [0.9365294 ],\n",
              "       ...,\n",
              "       [0.02838501],\n",
              "       [0.02833663],\n",
              "       [0.02820452]], dtype=float32)"
            ]
          },
          "metadata": {
            "tags": []
          },
          "execution_count": 17
        }
      ]
    },
    {
      "metadata": {
        "id": "ygihBNmHEL83",
        "colab_type": "text"
      },
      "cell_type": "markdown",
      "source": [
        "# Predict for X_train"
      ]
    },
    {
      "metadata": {
        "id": "aaf5gvIgEL84",
        "colab_type": "code",
        "outputId": "d9a3f97a-9fc2-49ce-e3d1-4752ca7f11dc",
        "colab": {
          "base_uri": "https://localhost:8080/",
          "height": 32
        }
      },
      "cell_type": "code",
      "source": [
        "y_predtrain = model.predict(X_train)\n",
        "y_predtrain = y_predtrain.reshape(-1)\n",
        "y_predtrain.shape"
      ],
      "execution_count": 0,
      "outputs": [
        {
          "output_type": "execute_result",
          "data": {
            "text/plain": [
              "(9937,)"
            ]
          },
          "metadata": {
            "tags": []
          },
          "execution_count": 18
        }
      ]
    },
    {
      "metadata": {
        "id": "N1u307z1EL89",
        "colab_type": "code",
        "outputId": "0aa5606f-4333-4aec-e7eb-1375783cc889",
        "colab": {
          "base_uri": "https://localhost:8080/",
          "height": 131
        }
      },
      "cell_type": "code",
      "source": [
        "df_predtrain = df[150:-10]\n",
        "df_predtrain[\"Close_predicted_train\"] = scaler.inverse_transform(y_predtrain.reshape(-1, 1))\n",
        "len(df_predtrain)"
      ],
      "execution_count": 0,
      "outputs": [
        {
          "output_type": "stream",
          "text": [
            "/usr/local/lib/python3.6/dist-packages/ipykernel_launcher.py:2: SettingWithCopyWarning: \n",
            "A value is trying to be set on a copy of a slice from a DataFrame.\n",
            "Try using .loc[row_indexer,col_indexer] = value instead\n",
            "\n",
            "See the caveats in the documentation: http://pandas.pydata.org/pandas-docs/stable/indexing.html#indexing-view-versus-copy\n",
            "  \n"
          ],
          "name": "stderr"
        },
        {
          "output_type": "execute_result",
          "data": {
            "text/plain": [
              "9937"
            ]
          },
          "metadata": {
            "tags": []
          },
          "execution_count": 19
        }
      ]
    },
    {
      "metadata": {
        "id": "YoFf7XrwEL9C",
        "colab_type": "text"
      },
      "cell_type": "markdown",
      "source": [
        "# Predict for X_test"
      ]
    },
    {
      "metadata": {
        "id": "bmCrfaYvEL9D",
        "colab_type": "code",
        "outputId": "9b1b4e96-41d8-4dbd-ec96-6e5dc8bb8840",
        "colab": {
          "base_uri": "https://localhost:8080/",
          "height": 32
        }
      },
      "cell_type": "code",
      "source": [
        "y_pred = model.predict(X_test)\n",
        "y_pred = y_pred.reshape(-1)\n",
        "y_pred.shape"
      ],
      "execution_count": 0,
      "outputs": [
        {
          "output_type": "execute_result",
          "data": {
            "text/plain": [
              "(150,)"
            ]
          },
          "metadata": {
            "tags": []
          },
          "execution_count": 20
        }
      ]
    },
    {
      "metadata": {
        "id": "OeU9ULLmEL9I",
        "colab_type": "code",
        "outputId": "dc7c3cf7-28b0-4268-d74b-8c429a6ebd93",
        "colab": {
          "base_uri": "https://localhost:8080/",
          "height": 299
        }
      },
      "cell_type": "code",
      "source": [
        "df_pred = df[:150]\n",
        "df_pred[\"Close_predicted_test\"] = scaler.inverse_transform(y_pred.reshape(-1, 1))\n",
        "df_pred.head()"
      ],
      "execution_count": 0,
      "outputs": [
        {
          "output_type": "stream",
          "text": [
            "/usr/local/lib/python3.6/dist-packages/ipykernel_launcher.py:2: SettingWithCopyWarning: \n",
            "A value is trying to be set on a copy of a slice from a DataFrame.\n",
            "Try using .loc[row_indexer,col_indexer] = value instead\n",
            "\n",
            "See the caveats in the documentation: http://pandas.pydata.org/pandas-docs/stable/indexing.html#indexing-view-versus-copy\n",
            "  \n"
          ],
          "name": "stderr"
        },
        {
          "output_type": "execute_result",
          "data": {
            "text/html": [
              "<div>\n",
              "<style scoped>\n",
              "    .dataframe tbody tr th:only-of-type {\n",
              "        vertical-align: middle;\n",
              "    }\n",
              "\n",
              "    .dataframe tbody tr th {\n",
              "        vertical-align: top;\n",
              "    }\n",
              "\n",
              "    .dataframe thead th {\n",
              "        text-align: right;\n",
              "    }\n",
              "</style>\n",
              "<table border=\"1\" class=\"dataframe\">\n",
              "  <thead>\n",
              "    <tr style=\"text-align: right;\">\n",
              "      <th></th>\n",
              "      <th>Date</th>\n",
              "      <th>Close</th>\n",
              "      <th>Close_before</th>\n",
              "      <th>Normalized_Data</th>\n",
              "      <th>Close_predicted_test</th>\n",
              "    </tr>\n",
              "  </thead>\n",
              "  <tbody>\n",
              "    <tr>\n",
              "      <th>0</th>\n",
              "      <td>2019-03-13</td>\n",
              "      <td>2810.919922</td>\n",
              "      <td>2791.520020</td>\n",
              "      <td>0.957632</td>\n",
              "      <td>2716.176758</td>\n",
              "    </tr>\n",
              "    <tr>\n",
              "      <th>1</th>\n",
              "      <td>2019-03-12</td>\n",
              "      <td>2791.520020</td>\n",
              "      <td>2783.300049</td>\n",
              "      <td>0.950773</td>\n",
              "      <td>2703.865479</td>\n",
              "    </tr>\n",
              "    <tr>\n",
              "      <th>2</th>\n",
              "      <td>2019-03-11</td>\n",
              "      <td>2783.300049</td>\n",
              "      <td>2743.070068</td>\n",
              "      <td>0.947867</td>\n",
              "      <td>2693.313477</td>\n",
              "    </tr>\n",
              "    <tr>\n",
              "      <th>3</th>\n",
              "      <td>2019-03-08</td>\n",
              "      <td>2743.070068</td>\n",
              "      <td>2748.929932</td>\n",
              "      <td>0.933643</td>\n",
              "      <td>2689.976807</td>\n",
              "    </tr>\n",
              "    <tr>\n",
              "      <th>4</th>\n",
              "      <td>2019-03-07</td>\n",
              "      <td>2748.929932</td>\n",
              "      <td>2771.449951</td>\n",
              "      <td>0.935715</td>\n",
              "      <td>2700.509277</td>\n",
              "    </tr>\n",
              "  </tbody>\n",
              "</table>\n",
              "</div>"
            ],
            "text/plain": [
              "         Date        Close  Close_before  Normalized_Data  \\\n",
              "0  2019-03-13  2810.919922   2791.520020         0.957632   \n",
              "1  2019-03-12  2791.520020   2783.300049         0.950773   \n",
              "2  2019-03-11  2783.300049   2743.070068         0.947867   \n",
              "3  2019-03-08  2743.070068   2748.929932         0.933643   \n",
              "4  2019-03-07  2748.929932   2771.449951         0.935715   \n",
              "\n",
              "   Close_predicted_test  \n",
              "0           2716.176758  \n",
              "1           2703.865479  \n",
              "2           2693.313477  \n",
              "3           2689.976807  \n",
              "4           2700.509277  "
            ]
          },
          "metadata": {
            "tags": []
          },
          "execution_count": 21
        }
      ]
    },
    {
      "metadata": {
        "id": "8o7oPJpcOef_",
        "colab_type": "code",
        "outputId": "d73f9ac9-def1-4ca8-9acb-3a3bee36d48b",
        "colab": {
          "base_uri": "https://localhost:8080/",
          "height": 398
        }
      },
      "cell_type": "code",
      "source": [
        "#df_pred[\"Close_after\"] = df_pred[\"Close\"].shift(+1)\n",
        "df_pred['Buy/Sell'] = np.where(df_pred[\"Close_before\"] <= df_pred[\"Close\"], 'Buy', 'Sell')\n",
        "\n",
        "#df_pred[\"Close_predicted_test_after\"] = df_pred[\"Close_predicted_test\"].shift(+1)\n",
        "df_pred['Buy/Sell_pred'] = np.where(df_pred[\"Close_before\"] <= df_pred[\"Close_predicted_test\"], 'Buy', 'Sell')\n",
        "\n",
        "df_pred = df_pred[[\"Date\",\"Close\", \"Close_before\",\"Close_predicted_test\",\"Buy/Sell\",\"Buy/Sell_pred\"]]\n",
        "\n",
        "df_pred_calc = df_pred.iloc[::-1]\n",
        "df_pred_calc = df_pred_calc.reset_index()\n",
        "df_pred_calc = df_pred_calc.drop (\"index\", axis=1)\n",
        "df_pred_calc.head()"
      ],
      "execution_count": 0,
      "outputs": [
        {
          "output_type": "stream",
          "text": [
            "/usr/local/lib/python3.6/dist-packages/ipykernel_launcher.py:1: SettingWithCopyWarning: \n",
            "A value is trying to be set on a copy of a slice from a DataFrame.\n",
            "Try using .loc[row_indexer,col_indexer] = value instead\n",
            "\n",
            "See the caveats in the documentation: http://pandas.pydata.org/pandas-docs/stable/indexing.html#indexing-view-versus-copy\n",
            "  \"\"\"Entry point for launching an IPython kernel.\n",
            "/usr/local/lib/python3.6/dist-packages/ipykernel_launcher.py:4: SettingWithCopyWarning: \n",
            "A value is trying to be set on a copy of a slice from a DataFrame.\n",
            "Try using .loc[row_indexer,col_indexer] = value instead\n",
            "\n",
            "See the caveats in the documentation: http://pandas.pydata.org/pandas-docs/stable/indexing.html#indexing-view-versus-copy\n",
            "  after removing the cwd from sys.path.\n"
          ],
          "name": "stderr"
        },
        {
          "output_type": "execute_result",
          "data": {
            "text/html": [
              "<div>\n",
              "<style scoped>\n",
              "    .dataframe tbody tr th:only-of-type {\n",
              "        vertical-align: middle;\n",
              "    }\n",
              "\n",
              "    .dataframe tbody tr th {\n",
              "        vertical-align: top;\n",
              "    }\n",
              "\n",
              "    .dataframe thead th {\n",
              "        text-align: right;\n",
              "    }\n",
              "</style>\n",
              "<table border=\"1\" class=\"dataframe\">\n",
              "  <thead>\n",
              "    <tr style=\"text-align: right;\">\n",
              "      <th></th>\n",
              "      <th>Date</th>\n",
              "      <th>Close</th>\n",
              "      <th>Close_before</th>\n",
              "      <th>Close_predicted_test</th>\n",
              "      <th>Buy/Sell</th>\n",
              "      <th>Buy/Sell_pred</th>\n",
              "    </tr>\n",
              "  </thead>\n",
              "  <tbody>\n",
              "    <tr>\n",
              "      <th>0</th>\n",
              "      <td>2018-08-16</td>\n",
              "      <td>2840.689941</td>\n",
              "      <td>2818.370117</td>\n",
              "      <td>2753.090088</td>\n",
              "      <td>Buy</td>\n",
              "      <td>Sell</td>\n",
              "    </tr>\n",
              "    <tr>\n",
              "      <th>1</th>\n",
              "      <td>2018-08-17</td>\n",
              "      <td>2850.129883</td>\n",
              "      <td>2840.689941</td>\n",
              "      <td>2758.420898</td>\n",
              "      <td>Buy</td>\n",
              "      <td>Sell</td>\n",
              "    </tr>\n",
              "    <tr>\n",
              "      <th>2</th>\n",
              "      <td>2018-08-20</td>\n",
              "      <td>2857.050049</td>\n",
              "      <td>2850.129883</td>\n",
              "      <td>2764.980225</td>\n",
              "      <td>Buy</td>\n",
              "      <td>Sell</td>\n",
              "    </tr>\n",
              "    <tr>\n",
              "      <th>3</th>\n",
              "      <td>2018-08-21</td>\n",
              "      <td>2862.959961</td>\n",
              "      <td>2857.050049</td>\n",
              "      <td>2769.144043</td>\n",
              "      <td>Buy</td>\n",
              "      <td>Sell</td>\n",
              "    </tr>\n",
              "    <tr>\n",
              "      <th>4</th>\n",
              "      <td>2018-08-22</td>\n",
              "      <td>2861.820068</td>\n",
              "      <td>2862.959961</td>\n",
              "      <td>2770.541504</td>\n",
              "      <td>Sell</td>\n",
              "      <td>Sell</td>\n",
              "    </tr>\n",
              "  </tbody>\n",
              "</table>\n",
              "</div>"
            ],
            "text/plain": [
              "         Date        Close  Close_before  Close_predicted_test Buy/Sell  \\\n",
              "0  2018-08-16  2840.689941   2818.370117           2753.090088      Buy   \n",
              "1  2018-08-17  2850.129883   2840.689941           2758.420898      Buy   \n",
              "2  2018-08-20  2857.050049   2850.129883           2764.980225      Buy   \n",
              "3  2018-08-21  2862.959961   2857.050049           2769.144043      Buy   \n",
              "4  2018-08-22  2861.820068   2862.959961           2770.541504     Sell   \n",
              "\n",
              "  Buy/Sell_pred  \n",
              "0          Sell  \n",
              "1          Sell  \n",
              "2          Sell  \n",
              "3          Sell  \n",
              "4          Sell  "
            ]
          },
          "metadata": {
            "tags": []
          },
          "execution_count": 22
        }
      ]
    },
    {
      "metadata": {
        "id": "vVegd_Pts6Vm",
        "colab_type": "code",
        "outputId": "ce1d4deb-a5cb-4bd1-ec4a-15abc180e1ac",
        "colab": {
          "base_uri": "https://localhost:8080/",
          "height": 49
        }
      },
      "cell_type": "code",
      "source": [
        "Cash = 10000\n",
        "count = 0\n",
        "NoStock = 0\n",
        "\n",
        "for i in df_pred_calc[\"Close_before\"]:\n",
        "  if df_pred_calc[\"Buy/Sell_pred\"][count]==\"Buy\":\n",
        "    Cash = Cash - i * 1\n",
        "    NoStock = NoStock + 1\n",
        "  else:\n",
        "    if NoStock > 0:\n",
        "      Cash = Cash + i * 1\n",
        "      NoStock = NoStock - 1\n",
        "    else: \n",
        "      pass\n",
        "  \n",
        "  count = count + 1\n",
        "  \n",
        "print(\"Cash after trading: \" + str(Cash + (NoStock * df_pred_calc[\"Close\"][len(df_pred_calc)-1])))\n",
        "print(\"Stocks end of period: \" + str(NoStock))"
      ],
      "execution_count": 0,
      "outputs": [
        {
          "output_type": "stream",
          "text": [
            "Cash after trading: 10254.329833984375\n",
            "Stocks end of period: 0\n"
          ],
          "name": "stdout"
        }
      ]
    },
    {
      "metadata": {
        "id": "TOuDV-O7EL9N",
        "colab_type": "text"
      },
      "cell_type": "markdown",
      "source": [
        "## Training Dataframe"
      ]
    },
    {
      "metadata": {
        "id": "j2pRA0HFEL9P",
        "colab_type": "code",
        "outputId": "c683fbcd-c9e3-47f8-e0a3-28ed9214fb81",
        "colab": {
          "base_uri": "https://localhost:8080/",
          "height": 292
        }
      },
      "cell_type": "code",
      "source": [
        "years = mdates.YearLocator()   # every year\n",
        "months = mdates.MonthLocator()  # every month\n",
        "yearsFmt = mdates.DateFormatter('%Y')\n",
        "\n",
        "# Sorgt dafür das lediglich Jahreszahlen angezeigt werden wenn gewünscht\n",
        "#ax = plt.gca() -> Nur verwenden wenn plotten über plt Methode\n",
        "ax.xaxis.set_major_locator(years)\n",
        "ax.xaxis.set_major_formatter(yearsFmt)\n",
        "ax.xaxis.set_minor_locator(months)\n",
        "\n",
        "dates1 = np.array(df_predtrain[\"Date\"]).astype(np.datetime64)\n",
        "\n",
        "x = dates1[:150]\n",
        "y1 = df_predtrain[\"Close\"][:150]\n",
        "y2 = df_predtrain[\"Close_predicted_train\"][:150]\n",
        "\n",
        "\n",
        "fig1 = plt.figure(figsize=plt.figaspect(0.3))\n",
        "fig1.add_axes()\n",
        "\n",
        "ax1 = fig1.add_subplot(111)\n",
        "ax1.plot(x,y1)\n",
        "ax1.plot(x,y2)\n",
        "ax1.set(title = \"Stock price Train_predicted\",\n",
        "      ylabel = \"Stock price\",\n",
        "      xlabel = \"Date\")\n",
        "ax1.legend(loc = \"best\")\n",
        "\n",
        "ax1.legend()\n",
        "\n",
        "plt.show()"
      ],
      "execution_count": 0,
      "outputs": [
        {
          "output_type": "display_data",
          "data": {
            "image/png": "[encoded data removed]",
            "text/plain": [
              "<Figure size 960x288 with 1 Axes>"
            ]
          },
          "metadata": {
            "tags": []
          }
        }
      ]
    },
    {
      "metadata": {
        "id": "ZxY5pSIjEL9T",
        "colab_type": "code",
        "outputId": "e6da74f5-7c9b-478f-b1f2-496c81746ffd",
        "colab": {
          "base_uri": "https://localhost:8080/",
          "height": 32
        }
      },
      "cell_type": "code",
      "source": [
        "import sklearn.metrics, math\n",
        "\n",
        "print(\"R square: %f\" % sklearn.metrics.r2_score(df_predtrain[\"Close\"],df_predtrain[\"Close_predicted_train\"]))"
      ],
      "execution_count": 0,
      "outputs": [
        {
          "output_type": "stream",
          "text": [
            "R square: 0.995389\n"
          ],
          "name": "stdout"
        }
      ]
    },
    {
      "metadata": {
        "id": "seY-cd9YEL9X",
        "colab_type": "text"
      },
      "cell_type": "markdown",
      "source": [
        "## Test DF"
      ]
    },
    {
      "metadata": {
        "scrolled": true,
        "id": "ieK67dAyEL9Y",
        "colab_type": "code",
        "outputId": "11577434-77cb-4e2c-8cdf-c837f38226f8",
        "colab": {
          "base_uri": "https://localhost:8080/",
          "height": 292
        }
      },
      "cell_type": "code",
      "source": [
        "years = mdates.YearLocator()   # every year\n",
        "months = mdates.MonthLocator()  # every month\n",
        "yearsFmt = mdates.DateFormatter('%Y')\n",
        "\n",
        "# Sorgt dafür das lediglich Jahreszahlen angezeigt werden wenn gewünscht\n",
        "#ax = plt.gca() -> Nur verwenden wenn plotten über plt Methode\n",
        "ax.xaxis.set_major_locator(years)\n",
        "ax.xaxis.set_major_formatter(yearsFmt)\n",
        "ax.xaxis.set_minor_locator(months)\n",
        "\n",
        "dates2 = np.array(df_pred[\"Date\"]).astype(np.datetime64)\n",
        "\n",
        "x1 = dates2[:150]\n",
        "y3 = df_pred[\"Close\"][:150]\n",
        "y4 = df_pred[\"Close_predicted_test\"][:150]\n",
        "\n",
        "fig1 = plt.figure(figsize=plt.figaspect(0.3))\n",
        "fig1.add_axes()\n",
        "\n",
        "ax1 = fig1.add_subplot(111)\n",
        "ax1.plot(x1,y3)\n",
        "ax1.plot(x1,y4)\n",
        "ax1.set(title = \"Stock price Test_predicted\",\n",
        "      ylabel = \"Stock price\",\n",
        "      xlabel = \"Date\")\n",
        "ax1.legend(loc = \"best\")\n",
        "\n",
        "ax1.legend()\n",
        "\n",
        "plt.show()"
      ],
      "execution_count": 0,
      "outputs": [
        {
          "output_type": "display_data",
          "data": {
            "image/png": "[encoded data removed]",
            "text/plain": [
              "<Figure size 960x288 with 1 Axes>"
            ]
          },
          "metadata": {
            "tags": []
          }
        }
      ]
    },
    {
      "metadata": {
        "id": "XpVh3sbJEL9c",
        "colab_type": "code",
        "outputId": "27317a99-ad88-4b6a-eff4-c476e896bf9f",
        "colab": {
          "base_uri": "https://localhost:8080/",
          "height": 32
        }
      },
      "cell_type": "code",
      "source": [
        "print(\"R square: %f\" % sklearn.metrics.r2_score(df_pred[\"Close\"],df_pred[\"Close_predicted_test\"]))"
      ],
      "execution_count": 0,
      "outputs": [
        {
          "output_type": "stream",
          "text": [
            "R square: 0.618395\n"
          ],
          "name": "stdout"
        }
      ]
    },
    {
      "metadata": {
        "id": "FFDMfa0vEL9f",
        "colab_type": "code",
        "colab": {}
      },
      "cell_type": "code",
      "source": [
        "## 1. Andere Daten (bspw. TSLA) einfügen und schauen wie das Modell performt! ## \n",
        "\n",
        "## 2. Nun andere Modelle mit diesen Train/Test Daten trainieren und dann anhand MSE & R^2 miteinander vergleichen##"
      ],
      "execution_count": 0,
      "outputs": []
    },
    {
      "metadata": {
        "id": "UHdJ-EZ4QPTQ",
        "colab_type": "text"
      },
      "cell_type": "markdown",
      "source": [
        "# Trainiertes Modell auf Tesla Daten"
      ]
    },
    {
      "metadata": {
        "id": "kWqcy-v4RgGT",
        "colab_type": "code",
        "outputId": "8a409ee2-fe32-4ee0-d6b5-459f3291bc8b",
        "colab": {
          "base_uri": "https://localhost:8080/",
          "height": 207
        }
      },
      "cell_type": "code",
      "source": [
        "!ls ~/Colab"
      ],
      "execution_count": 0,
      "outputs": [
        {
          "output_type": "stream",
          "text": [
            " 1LayerLSTM.hdf5\t\t      Sp500Close.csv\n",
            " 1ScaleLayerLSTMEpoch380-00021.hdf5   SP500CloseLong.csv\n",
            " 1ScaleLayerLSTMEpoch380.hdf5\t      Sp500Complete63.csv\n",
            " 1ScaleLayerLSTM.hdf5\t\t      TSLAClose.csv\n",
            " 2LayerLSTM.hdf5\t\t      Tweepy.ipynb\n",
            "'First LSTM NN-1Inputs.ipynb'\t      TwitterSP500Close_19.3.csv\n",
            "'First LSTM NN-2Inputs.ipynb'\t      TwitterSP500Close_28.3.csv\n",
            "'Scale First LSTM NN-1Inputs.ipynb'   TwitterSP500Close.csv\n",
            " ScaleLSTM2Inputs.ipynb\t\t     'Yahoo API.ipynb'\n",
            " SP500Close283.csv\n"
          ],
          "name": "stdout"
        }
      ]
    },
    {
      "metadata": {
        "id": "SmlKImAYQh_R",
        "colab_type": "code",
        "outputId": "3e5ea289-e800-4584-8a51-48002224066b",
        "colab": {
          "base_uri": "https://localhost:8080/",
          "height": 65
        }
      },
      "cell_type": "code",
      "source": [
        "dftest = pd.read_csv(os.path.expanduser(\"~/Colab/TSLAClose.csv\"))\n",
        "dftest = dftest.drop(\"Unnamed: 0\", axis=1)\n",
        "dftest = dftest.iloc[::-1]\n",
        "dftest = dftest.reset_index()\n",
        "dftest = dftest.drop (\"index\", axis=1)\n",
        "dftest.count()"
      ],
      "execution_count": 0,
      "outputs": [
        {
          "output_type": "execute_result",
          "data": {
            "text/plain": [
              "Date     2272\n",
              "Close    2272\n",
              "dtype: int64"
            ]
          },
          "metadata": {
            "tags": []
          },
          "execution_count": 30
        }
      ]
    },
    {
      "metadata": {
        "id": "CjD24JV9SZYU",
        "colab_type": "code",
        "outputId": "0a32725a-63e6-4e9c-af65-56dc4f80d460",
        "colab": {
          "base_uri": "https://localhost:8080/",
          "height": 201
        }
      },
      "cell_type": "code",
      "source": [
        "dftest[\"Close_before\"] = dftest[\"Close\"].shift(-1)\n",
        "dftest = dftest.dropna()\n",
        "dftest.head()"
      ],
      "execution_count": 0,
      "outputs": [
        {
          "output_type": "execute_result",
          "data": {
            "text/html": [
              "<div>\n",
              "<style scoped>\n",
              "    .dataframe tbody tr th:only-of-type {\n",
              "        vertical-align: middle;\n",
              "    }\n",
              "\n",
              "    .dataframe tbody tr th {\n",
              "        vertical-align: top;\n",
              "    }\n",
              "\n",
              "    .dataframe thead th {\n",
              "        text-align: right;\n",
              "    }\n",
              "</style>\n",
              "<table border=\"1\" class=\"dataframe\">\n",
              "  <thead>\n",
              "    <tr style=\"text-align: right;\">\n",
              "      <th></th>\n",
              "      <th>Date</th>\n",
              "      <th>Close</th>\n",
              "      <th>Close_before</th>\n",
              "    </tr>\n",
              "  </thead>\n",
              "  <tbody>\n",
              "    <tr>\n",
              "      <th>0</th>\n",
              "      <td>2019-03-13</td>\n",
              "      <td>284.859985</td>\n",
              "      <td>283.359985</td>\n",
              "    </tr>\n",
              "    <tr>\n",
              "      <th>1</th>\n",
              "      <td>2019-03-12</td>\n",
              "      <td>283.359985</td>\n",
              "      <td>290.920013</td>\n",
              "    </tr>\n",
              "    <tr>\n",
              "      <th>2</th>\n",
              "      <td>2019-03-11</td>\n",
              "      <td>290.920013</td>\n",
              "      <td>284.140015</td>\n",
              "    </tr>\n",
              "    <tr>\n",
              "      <th>3</th>\n",
              "      <td>2019-03-08</td>\n",
              "      <td>284.140015</td>\n",
              "      <td>276.589996</td>\n",
              "    </tr>\n",
              "    <tr>\n",
              "      <th>4</th>\n",
              "      <td>2019-03-07</td>\n",
              "      <td>276.589996</td>\n",
              "      <td>276.239990</td>\n",
              "    </tr>\n",
              "  </tbody>\n",
              "</table>\n",
              "</div>"
            ],
            "text/plain": [
              "         Date       Close  Close_before\n",
              "0  2019-03-13  284.859985    283.359985\n",
              "1  2019-03-12  283.359985    290.920013\n",
              "2  2019-03-11  290.920013    284.140015\n",
              "3  2019-03-08  284.140015    276.589996\n",
              "4  2019-03-07  276.589996    276.239990"
            ]
          },
          "metadata": {
            "tags": []
          },
          "execution_count": 31
        }
      ]
    },
    {
      "metadata": {
        "id": "5sAWHdXJJCYg",
        "colab_type": "code",
        "outputId": "e2202210-57af-402e-e631-2043c4be7380",
        "colab": {
          "base_uri": "https://localhost:8080/",
          "height": 411
        }
      },
      "cell_type": "code",
      "source": [
        "### Daten werden Normalisiert ###\n",
        "\n",
        "series = Series(dftest[\"Close\"])\n",
        "#print(series)\n",
        "#prepare data for normalization\n",
        "values = series.values\n",
        "values = values.reshape((len(values), 1))\n",
        "# train the normalization\n",
        "scaler = MinMaxScaler(feature_range=(0, 1))\n",
        "scaler = scaler.fit(values)\n",
        "print('Min: %f, Max: %f' % (scaler.data_min_, scaler.data_max_))\n",
        "# normalize the dataset and print\n",
        "normalized = scaler.transform(values)\n",
        "dftest[\"Normalized_Data\"] = normalized\n",
        "print(normalized)\n",
        "\n",
        "closesnorm1 = dftest[\"Normalized_Data\"]\n",
        "closesnorm1.plot()"
      ],
      "execution_count": 0,
      "outputs": [
        {
          "output_type": "stream",
          "text": [
            "Min: 15.800000, Max: 385.000000\n",
            "[[0.72876486]\n",
            " [0.72470202]\n",
            " [0.7451788 ]\n",
            " ...\n",
            " [0.0092091 ]\n",
            " [0.01668472]\n",
            " [0.02174973]]\n"
          ],
          "name": "stdout"
        },
        {
          "output_type": "execute_result",
          "data": {
            "text/plain": [
              "<matplotlib.axes._subplots.AxesSubplot at 0x7fa8abfd4b00>"
            ]
          },
          "metadata": {
            "tags": []
          },
          "execution_count": 32
        },
        {
          "output_type": "display_data",
          "data": {
            "image/png": "[encoded data removed]",
            "text/plain": [
              "<Figure size 432x288 with 1 Axes>"
            ]
          },
          "metadata": {
            "tags": []
          }
        }
      ]
    },
    {
      "metadata": {
        "id": "ICBOC3I6S5tg",
        "colab_type": "code",
        "outputId": "fa46b10b-78d9-4944-dfb1-762493795d02",
        "colab": {
          "base_uri": "https://localhost:8080/",
          "height": 201
        }
      },
      "cell_type": "code",
      "source": [
        "dftest.head()"
      ],
      "execution_count": 0,
      "outputs": [
        {
          "output_type": "execute_result",
          "data": {
            "text/html": [
              "<div>\n",
              "<style scoped>\n",
              "    .dataframe tbody tr th:only-of-type {\n",
              "        vertical-align: middle;\n",
              "    }\n",
              "\n",
              "    .dataframe tbody tr th {\n",
              "        vertical-align: top;\n",
              "    }\n",
              "\n",
              "    .dataframe thead th {\n",
              "        text-align: right;\n",
              "    }\n",
              "</style>\n",
              "<table border=\"1\" class=\"dataframe\">\n",
              "  <thead>\n",
              "    <tr style=\"text-align: right;\">\n",
              "      <th></th>\n",
              "      <th>Date</th>\n",
              "      <th>Close</th>\n",
              "      <th>Close_before</th>\n",
              "      <th>Normalized_Data</th>\n",
              "    </tr>\n",
              "  </thead>\n",
              "  <tbody>\n",
              "    <tr>\n",
              "      <th>0</th>\n",
              "      <td>2019-03-13</td>\n",
              "      <td>284.859985</td>\n",
              "      <td>283.359985</td>\n",
              "      <td>0.728765</td>\n",
              "    </tr>\n",
              "    <tr>\n",
              "      <th>1</th>\n",
              "      <td>2019-03-12</td>\n",
              "      <td>283.359985</td>\n",
              "      <td>290.920013</td>\n",
              "      <td>0.724702</td>\n",
              "    </tr>\n",
              "    <tr>\n",
              "      <th>2</th>\n",
              "      <td>2019-03-11</td>\n",
              "      <td>290.920013</td>\n",
              "      <td>284.140015</td>\n",
              "      <td>0.745179</td>\n",
              "    </tr>\n",
              "    <tr>\n",
              "      <th>3</th>\n",
              "      <td>2019-03-08</td>\n",
              "      <td>284.140015</td>\n",
              "      <td>276.589996</td>\n",
              "      <td>0.726815</td>\n",
              "    </tr>\n",
              "    <tr>\n",
              "      <th>4</th>\n",
              "      <td>2019-03-07</td>\n",
              "      <td>276.589996</td>\n",
              "      <td>276.239990</td>\n",
              "      <td>0.706365</td>\n",
              "    </tr>\n",
              "  </tbody>\n",
              "</table>\n",
              "</div>"
            ],
            "text/plain": [
              "         Date       Close  Close_before  Normalized_Data\n",
              "0  2019-03-13  284.859985    283.359985         0.728765\n",
              "1  2019-03-12  283.359985    290.920013         0.724702\n",
              "2  2019-03-11  290.920013    284.140015         0.745179\n",
              "3  2019-03-08  284.140015    276.589996         0.726815\n",
              "4  2019-03-07  276.589996    276.239990         0.706365"
            ]
          },
          "metadata": {
            "tags": []
          },
          "execution_count": 33
        }
      ]
    },
    {
      "metadata": {
        "id": "SL1QTYlLS5xV",
        "colab_type": "code",
        "outputId": "d6cd7616-3436-4262-d2d6-4ab8d19f0acf",
        "colab": {
          "base_uri": "https://localhost:8080/",
          "height": 32
        }
      },
      "cell_type": "code",
      "source": [
        "X_test2 = []\n",
        "y_test2 = []\n",
        "for i in range (0,len(closesnorm1)-10):\n",
        "    y_test2.append(closesnorm1[i])\n",
        "    X_test2.append(np.array((closesnorm1[i:i+10][::-1])))\n",
        "\n",
        "X_test2 = np.array(X_test2).reshape(-1,10,1)\n",
        "y_test2 = np.array(y_test2)\n",
        "\n",
        "y_test2.shape"
      ],
      "execution_count": 0,
      "outputs": [
        {
          "output_type": "execute_result",
          "data": {
            "text/plain": [
              "(2261,)"
            ]
          },
          "metadata": {
            "tags": []
          },
          "execution_count": 34
        }
      ]
    },
    {
      "metadata": {
        "id": "LoPoAlX6QR_f",
        "colab_type": "code",
        "outputId": "8a447588-da2f-4a67-e36c-2cd4943ecc63",
        "colab": {
          "base_uri": "https://localhost:8080/",
          "height": 32
        }
      },
      "cell_type": "code",
      "source": [
        "y_predtest = model.predict(X_test2)\n",
        "y_predtest = y_predtest.reshape(-1)\n",
        "y_predtest.shape"
      ],
      "execution_count": 0,
      "outputs": [
        {
          "output_type": "execute_result",
          "data": {
            "text/plain": [
              "(2261,)"
            ]
          },
          "metadata": {
            "tags": []
          },
          "execution_count": 35
        }
      ]
    },
    {
      "metadata": {
        "id": "yPyyEYLVQpdt",
        "colab_type": "code",
        "outputId": "0250ede8-eba3-4414-f13b-d8e108beedfe",
        "colab": {
          "base_uri": "https://localhost:8080/",
          "height": 299
        }
      },
      "cell_type": "code",
      "source": [
        "df_predtest = dftest[:-10]\n",
        "df_predtest[\"Close_predicted_test\"] = scaler.inverse_transform(y_predtest.reshape(-1, 1))\n",
        "df_predtest.head()"
      ],
      "execution_count": 0,
      "outputs": [
        {
          "output_type": "stream",
          "text": [
            "/usr/local/lib/python3.6/dist-packages/ipykernel_launcher.py:2: SettingWithCopyWarning: \n",
            "A value is trying to be set on a copy of a slice from a DataFrame.\n",
            "Try using .loc[row_indexer,col_indexer] = value instead\n",
            "\n",
            "See the caveats in the documentation: http://pandas.pydata.org/pandas-docs/stable/indexing.html#indexing-view-versus-copy\n",
            "  \n"
          ],
          "name": "stderr"
        },
        {
          "output_type": "execute_result",
          "data": {
            "text/html": [
              "<div>\n",
              "<style scoped>\n",
              "    .dataframe tbody tr th:only-of-type {\n",
              "        vertical-align: middle;\n",
              "    }\n",
              "\n",
              "    .dataframe tbody tr th {\n",
              "        vertical-align: top;\n",
              "    }\n",
              "\n",
              "    .dataframe thead th {\n",
              "        text-align: right;\n",
              "    }\n",
              "</style>\n",
              "<table border=\"1\" class=\"dataframe\">\n",
              "  <thead>\n",
              "    <tr style=\"text-align: right;\">\n",
              "      <th></th>\n",
              "      <th>Date</th>\n",
              "      <th>Close</th>\n",
              "      <th>Close_before</th>\n",
              "      <th>Normalized_Data</th>\n",
              "      <th>Close_predicted_test</th>\n",
              "    </tr>\n",
              "  </thead>\n",
              "  <tbody>\n",
              "    <tr>\n",
              "      <th>0</th>\n",
              "      <td>2019-03-13</td>\n",
              "      <td>284.859985</td>\n",
              "      <td>283.359985</td>\n",
              "      <td>0.728765</td>\n",
              "      <td>280.083313</td>\n",
              "    </tr>\n",
              "    <tr>\n",
              "      <th>1</th>\n",
              "      <td>2019-03-12</td>\n",
              "      <td>283.359985</td>\n",
              "      <td>290.920013</td>\n",
              "      <td>0.724702</td>\n",
              "      <td>280.677948</td>\n",
              "    </tr>\n",
              "    <tr>\n",
              "      <th>2</th>\n",
              "      <td>2019-03-11</td>\n",
              "      <td>290.920013</td>\n",
              "      <td>284.140015</td>\n",
              "      <td>0.745179</td>\n",
              "      <td>277.958984</td>\n",
              "    </tr>\n",
              "    <tr>\n",
              "      <th>3</th>\n",
              "      <td>2019-03-08</td>\n",
              "      <td>284.140015</td>\n",
              "      <td>276.589996</td>\n",
              "      <td>0.726815</td>\n",
              "      <td>275.210022</td>\n",
              "    </tr>\n",
              "    <tr>\n",
              "      <th>4</th>\n",
              "      <td>2019-03-07</td>\n",
              "      <td>276.589996</td>\n",
              "      <td>276.239990</td>\n",
              "      <td>0.706365</td>\n",
              "      <td>274.666321</td>\n",
              "    </tr>\n",
              "  </tbody>\n",
              "</table>\n",
              "</div>"
            ],
            "text/plain": [
              "         Date       Close  Close_before  Normalized_Data  Close_predicted_test\n",
              "0  2019-03-13  284.859985    283.359985         0.728765            280.083313\n",
              "1  2019-03-12  283.359985    290.920013         0.724702            280.677948\n",
              "2  2019-03-11  290.920013    284.140015         0.745179            277.958984\n",
              "3  2019-03-08  284.140015    276.589996         0.726815            275.210022\n",
              "4  2019-03-07  276.589996    276.239990         0.706365            274.666321"
            ]
          },
          "metadata": {
            "tags": []
          },
          "execution_count": 36
        }
      ]
    },
    {
      "metadata": {
        "id": "_YG7p1HH2QQK",
        "colab_type": "code",
        "outputId": "b6ada136-1783-4d49-f2e4-b25d4ebf075c",
        "colab": {
          "base_uri": "https://localhost:8080/",
          "height": 398
        }
      },
      "cell_type": "code",
      "source": [
        "#df_predtest[\"Close_after\"] = df_predtest[\"Close\"].shift(+1)\n",
        "df_predtest['Buy/Sell'] = np.where(df_predtest[\"Close_before\"] <= df_predtest[\"Close\"], 'Buy', 'Sell')\n",
        "\n",
        "#df_predtest[\"Close_predicted_test_after\"] = df_predtest[\"Close_predicted_test\"].shift(+1)\n",
        "df_predtest['Buy/Sell_pred'] = np.where(df_predtest[\"Close_before\"] <= df_predtest[\"Close_predicted_test\"], 'Buy', 'Sell')\n",
        "\n",
        "df_predtest = df_predtest[[\"Date\",\"Close\", \"Close_before\",\"Close_predicted_test\",\"Buy/Sell\",\"Buy/Sell_pred\"]]\n",
        "\n",
        "df_pred_calc = df_predtest.iloc[::-1]\n",
        "df_pred_calc = df_pred_calc.reset_index()\n",
        "df_pred_calc = df_pred_calc.drop (\"index\", axis=1)\n",
        "df_pred_calc.head()"
      ],
      "execution_count": 0,
      "outputs": [
        {
          "output_type": "stream",
          "text": [
            "/usr/local/lib/python3.6/dist-packages/ipykernel_launcher.py:1: SettingWithCopyWarning: \n",
            "A value is trying to be set on a copy of a slice from a DataFrame.\n",
            "Try using .loc[row_indexer,col_indexer] = value instead\n",
            "\n",
            "See the caveats in the documentation: http://pandas.pydata.org/pandas-docs/stable/indexing.html#indexing-view-versus-copy\n",
            "  \"\"\"Entry point for launching an IPython kernel.\n",
            "/usr/local/lib/python3.6/dist-packages/ipykernel_launcher.py:4: SettingWithCopyWarning: \n",
            "A value is trying to be set on a copy of a slice from a DataFrame.\n",
            "Try using .loc[row_indexer,col_indexer] = value instead\n",
            "\n",
            "See the caveats in the documentation: http://pandas.pydata.org/pandas-docs/stable/indexing.html#indexing-view-versus-copy\n",
            "  after removing the cwd from sys.path.\n"
          ],
          "name": "stderr"
        },
        {
          "output_type": "execute_result",
          "data": {
            "text/html": [
              "<div>\n",
              "<style scoped>\n",
              "    .dataframe tbody tr th:only-of-type {\n",
              "        vertical-align: middle;\n",
              "    }\n",
              "\n",
              "    .dataframe tbody tr th {\n",
              "        vertical-align: top;\n",
              "    }\n",
              "\n",
              "    .dataframe thead th {\n",
              "        text-align: right;\n",
              "    }\n",
              "</style>\n",
              "<table border=\"1\" class=\"dataframe\">\n",
              "  <thead>\n",
              "    <tr style=\"text-align: right;\">\n",
              "      <th></th>\n",
              "      <th>Date</th>\n",
              "      <th>Close</th>\n",
              "      <th>Close_before</th>\n",
              "      <th>Close_predicted_test</th>\n",
              "      <th>Buy/Sell</th>\n",
              "      <th>Buy/Sell_pred</th>\n",
              "    </tr>\n",
              "  </thead>\n",
              "  <tbody>\n",
              "    <tr>\n",
              "      <th>0</th>\n",
              "      <td>2010-07-14</td>\n",
              "      <td>19.840000</td>\n",
              "      <td>18.139999</td>\n",
              "      <td>26.897402</td>\n",
              "      <td>Buy</td>\n",
              "      <td>Buy</td>\n",
              "    </tr>\n",
              "    <tr>\n",
              "      <th>1</th>\n",
              "      <td>2010-07-15</td>\n",
              "      <td>19.889999</td>\n",
              "      <td>19.840000</td>\n",
              "      <td>26.230658</td>\n",
              "      <td>Buy</td>\n",
              "      <td>Buy</td>\n",
              "    </tr>\n",
              "    <tr>\n",
              "      <th>2</th>\n",
              "      <td>2010-07-16</td>\n",
              "      <td>20.639999</td>\n",
              "      <td>19.889999</td>\n",
              "      <td>26.007753</td>\n",
              "      <td>Buy</td>\n",
              "      <td>Buy</td>\n",
              "    </tr>\n",
              "    <tr>\n",
              "      <th>3</th>\n",
              "      <td>2010-07-19</td>\n",
              "      <td>21.910000</td>\n",
              "      <td>20.639999</td>\n",
              "      <td>25.807234</td>\n",
              "      <td>Buy</td>\n",
              "      <td>Buy</td>\n",
              "    </tr>\n",
              "    <tr>\n",
              "      <th>4</th>\n",
              "      <td>2010-07-20</td>\n",
              "      <td>20.299999</td>\n",
              "      <td>21.910000</td>\n",
              "      <td>26.175064</td>\n",
              "      <td>Sell</td>\n",
              "      <td>Buy</td>\n",
              "    </tr>\n",
              "  </tbody>\n",
              "</table>\n",
              "</div>"
            ],
            "text/plain": [
              "         Date      Close  Close_before  Close_predicted_test Buy/Sell  \\\n",
              "0  2010-07-14  19.840000     18.139999             26.897402      Buy   \n",
              "1  2010-07-15  19.889999     19.840000             26.230658      Buy   \n",
              "2  2010-07-16  20.639999     19.889999             26.007753      Buy   \n",
              "3  2010-07-19  21.910000     20.639999             25.807234      Buy   \n",
              "4  2010-07-20  20.299999     21.910000             26.175064     Sell   \n",
              "\n",
              "  Buy/Sell_pred  \n",
              "0           Buy  \n",
              "1           Buy  \n",
              "2           Buy  \n",
              "3           Buy  \n",
              "4           Buy  "
            ]
          },
          "metadata": {
            "tags": []
          },
          "execution_count": 37
        }
      ]
    },
    {
      "metadata": {
        "id": "3z_xlBBn2nEA",
        "colab_type": "code",
        "outputId": "313101ff-406d-4854-dc4d-ceae3a14c265",
        "colab": {
          "base_uri": "https://localhost:8080/",
          "height": 49
        }
      },
      "cell_type": "code",
      "source": [
        "Cash = 10000\n",
        "count = 0\n",
        "NoStock = 0\n",
        "\n",
        "for i in df_pred_calc[\"Close_before\"]:\n",
        "  if df_pred_calc[\"Buy/Sell_pred\"][count]==\"Buy\":\n",
        "    Cash = Cash - i * 1\n",
        "    NoStock = NoStock + 1\n",
        "  else:\n",
        "    if NoStock > 0:\n",
        "      Cash = Cash + i * 1\n",
        "      NoStock = NoStock - 1\n",
        "    else: \n",
        "      pass\n",
        "  \n",
        "  count = count + 1\n",
        "  \n",
        "print(\"Cash after trading: \" + str(Cash + (NoStock * df_pred_calc[\"Close\"][len(df_pred_calc)-1])))\n",
        "print(\"Stocks end of period: \" + str(NoStock))"
      ],
      "execution_count": 0,
      "outputs": [
        {
          "output_type": "stream",
          "text": [
            "Cash after trading: 145613.09003257751\n",
            "Stocks end of period: 0\n"
          ],
          "name": "stdout"
        }
      ]
    },
    {
      "metadata": {
        "id": "RWf95xkdVdF-",
        "colab_type": "code",
        "outputId": "1897da77-039a-44e7-ebdb-df63a2ab69ec",
        "colab": {
          "base_uri": "https://localhost:8080/",
          "height": 292
        }
      },
      "cell_type": "code",
      "source": [
        "years = mdates.YearLocator()   # every year\n",
        "months = mdates.MonthLocator()  # every month\n",
        "yearsFmt = mdates.DateFormatter('%Y')\n",
        "\n",
        "# Sorgt dafür das lediglich Jahreszahlen angezeigt werden wenn gewünscht\n",
        "#ax = plt.gca() -> Nur verwenden wenn plotten über plt Methode\n",
        "ax.xaxis.set_major_locator(years)\n",
        "ax.xaxis.set_major_formatter(yearsFmt)\n",
        "ax.xaxis.set_minor_locator(months)\n",
        "\n",
        "dates3 = np.array(df_predtest[\"Date\"]).astype(np.datetime64)\n",
        "\n",
        "x2 = dates3[:150]\n",
        "y5 = df_predtest[\"Close\"][:150]\n",
        "y6 = df_predtest[\"Close_predicted_test\"][:150]\n",
        "\n",
        "\n",
        "fig1 = plt.figure(figsize=plt.figaspect(0.3))\n",
        "fig1.add_axes()\n",
        "\n",
        "ax1 = fig1.add_subplot(111)\n",
        "ax1.plot(x2,y5)\n",
        "ax1.plot(x2,y6)\n",
        "ax1.set(title = \"Stock price Test_predicted\",\n",
        "      ylabel = \"Stock price\",\n",
        "      xlabel = \"Date\")\n",
        "ax1.legend(loc = \"best\")\n",
        "\n",
        "ax1.legend()\n",
        "\n",
        "plt.show()"
      ],
      "execution_count": 0,
      "outputs": [
        {
          "output_type": "display_data",
          "data": {
            "image/png": "[encoded data removed]",
            "text/plain": [
              "<Figure size 960x288 with 1 Axes>"
            ]
          },
          "metadata": {
            "tags": []
          }
        }
      ]
    },
    {
      "metadata": {
        "id": "WDUReLnTVtBR",
        "colab_type": "code",
        "outputId": "35625178-4928-44f4-8a7b-db3a5da9b3e1",
        "colab": {
          "base_uri": "https://localhost:8080/",
          "height": 32
        }
      },
      "cell_type": "code",
      "source": [
        "print(\"R square: %f\" % sklearn.metrics.r2_score(df_predtest[\"Close\"],df_predtest[\"Close_predicted_test\"]))"
      ],
      "execution_count": 0,
      "outputs": [
        {
          "output_type": "stream",
          "text": [
            "R square: 0.992860\n"
          ],
          "name": "stdout"
        }
      ]
    },
    {
      "metadata": {
        "id": "ji7fuNg3WaXb",
        "colab_type": "code",
        "outputId": "f5324465-98af-4018-b6ed-60bca0a42653",
        "colab": {
          "base_uri": "https://localhost:8080/",
          "height": 49
        }
      },
      "cell_type": "code",
      "source": [
        "model.evaluate(X_test2,y_test2)  # Zeigt MSE!"
      ],
      "execution_count": 0,
      "outputs": [
        {
          "output_type": "stream",
          "text": [
            "2261/2261 [==============================] - 1s 608us/step\n"
          ],
          "name": "stdout"
        },
        {
          "output_type": "execute_result",
          "data": {
            "text/plain": [
              "0.0006963513937505058"
            ]
          },
          "metadata": {
            "tags": []
          },
          "execution_count": 41
        }
      ]
    },
    {
      "metadata": {
        "id": "ml1m7iKqTPlM",
        "colab_type": "code",
        "colab": {}
      },
      "cell_type": "code",
      "source": [
        "#model.save(\"1ScaleLayerLSTMEpoch380-00021.hdf5\")"
      ],
      "execution_count": 0,
      "outputs": []
    },
    {
      "metadata": {
        "id": "47j-BNrnUn0_",
        "colab_type": "code",
        "colab": {}
      },
      "cell_type": "code",
      "source": [
        "#from google.colab import files\n",
        "\n",
        "#files.download(\"1ScaleLayerLSTMEpoch380-00021.hdf5\")"
      ],
      "execution_count": 0,
      "outputs": []
    },
    {
      "metadata": {
        "id": "0_D8S2FHVC2X",
        "colab_type": "code",
        "colab": {}
      },
      "cell_type": "code",
      "source": [
        "#from keras.models import load_model\n",
        "#model1 = load_model('1LayerLSTM.hdf5')"
      ],
      "execution_count": 0,
      "outputs": []
    },
    {
      "metadata": {
        "id": "fNemvlEXpCRL",
        "colab_type": "text"
      },
      "cell_type": "markdown",
      "source": [
        "# Other models for testing"
      ]
    },
    {
      "metadata": {
        "id": "QZItpdiaVs4I",
        "colab_type": "code",
        "colab": {}
      },
      "cell_type": "code",
      "source": [
        ""
      ],
      "execution_count": 0,
      "outputs": []
    }
  ]
}